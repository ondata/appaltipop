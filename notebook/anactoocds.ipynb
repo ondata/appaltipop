{
 "cells": [
  {
   "cell_type": "code",
   "execution_count": 2,
   "metadata": {},
   "outputs": [],
   "source": [
    "import flattentool\n",
    "import json\n",
    "import csv\n",
    "from anacocds_work import *\n"
   ]
  },
  {
   "cell_type": "code",
   "execution_count": 3,
   "metadata": {},
   "outputs": [
    {
     "output_type": "execute_result",
     "data": {
      "text/plain": [
       "3"
      ]
     },
     "metadata": {},
     "execution_count": 3
    }
   ],
   "source": [
    "csv.QUOTE_NONE"
   ]
  },
  {
   "cell_type": "code",
   "execution_count": 4,
   "metadata": {},
   "outputs": [],
   "source": [
    "data_dir ='../csv/2020/'\n",
    "tmp_dir = '../csv/tmp/'\n",
    "schema_dir = '../csv/'\n",
    "out_dir = '../data/'\n",
    "\n",
    "\n",
    "\n",
    "\n",
    "#cod_pa = '00080270838'\n",
    "#cod_pa = '00097020598'\n",
    "#cod_pa = '00104330493'\n",
    "#cod_pa = '00124600685'\n",
    "#cod_pa = '00125680033'\n",
    "#cod_pa = '00137020871'\n",
    "#cod_pa = '00147990923'\n",
    "#cod_pa = '00162210348'\n",
    "#cod_pa = '00163570542'\n",
    "#cod_pa = '00175660554'\n",
    "#cod_pa = '00215150236'\n",
    "#cod_pa = '00221940364'\n",
    "#cod_pa = '00229080338'\n",
    "#cod_pa = '00239740905'\n",
    "#cod_pa = '00297110389'\n",
    "#cod_pa = '00304260409'\n",
    "#cod_pa = '00339370272'\n",
    "#cod_pa = '00351040423'\n",
    "#cod_pa = '00354730392'\n",
    "#cod_pa = '00355870221'\n",
    "#cod_pa = '00389240219'\n",
    "#cod_pa = '00514490010'\n",
    "#cod_pa = '00606620409'\n",
    "#cod_pa = '00644060287'\n",
    "#cod_pa = '00856930102'\n",
    "#cod_pa = '01199250158'\n",
    "#cod_pa = '01232710374'\n",
    "#cod_pa = '01307110484'\n",
    "#cod_pa = '02030880153' \n",
    "#cod_pa = '80000330656'\n",
    "#cod_pa = '80015010723'\n",
    "#cod_pa = '80016350821'\n",
    "#cod_pa = '80025760820'\n",
    "#cod_pa = '80049220637'\n",
    "#cod_pa = '81001210723'\n",
    "cod_pa = '84006890481'\n",
    "\n",
    "\n",
    "work_dir = data_dir + cod_pa\n",
    "\n"
   ]
  },
  {
   "cell_type": "code",
   "execution_count": 5,
   "metadata": {
    "scrolled": true
   },
   "outputs": [
    {
     "output_type": "execute_result",
     "data": {
      "text/plain": [
       "   n    cig      codiceFiscale               ragioneSociale  ruolo  \\\n",
       "0  1   IDM3          IT-CF-NAN                          NaN    NaN   \n",
       "1  2  IDM15  IT-CF-02213820208                  Publika srl    NaN   \n",
       "2  3  IDM35  IT-CF-84006890481  Corpo di Polizia Municipale    NaN   \n",
       "3  4  IDM55          IT-CF-NAN                          NaN    NaN   \n",
       "4  5  IDM67  IT-CF-02213820208                  Publika srl    NaN   \n",
       "\n",
       "  identificativoFiscaleEstero  aggrgrno lottoID               ocid  \n",
       "0                         NAN       NaN    idm3   ocds-bxokds-IDM3  \n",
       "1                         NAN       NaN   idm15  ocds-bxokds-IDM15  \n",
       "2                         NAN       NaN   idm35  ocds-bxokds-IDM35  \n",
       "3                         NAN       NaN   idm55  ocds-bxokds-IDM55  \n",
       "4                         NAN       NaN   idm67  ocds-bxokds-IDM67  "
      ],
      "text/html": "<div>\n<style scoped>\n    .dataframe tbody tr th:only-of-type {\n        vertical-align: middle;\n    }\n\n    .dataframe tbody tr th {\n        vertical-align: top;\n    }\n\n    .dataframe thead th {\n        text-align: right;\n    }\n</style>\n<table border=\"1\" class=\"dataframe\">\n  <thead>\n    <tr style=\"text-align: right;\">\n      <th></th>\n      <th>n</th>\n      <th>cig</th>\n      <th>codiceFiscale</th>\n      <th>ragioneSociale</th>\n      <th>ruolo</th>\n      <th>identificativoFiscaleEstero</th>\n      <th>aggrgrno</th>\n      <th>lottoID</th>\n      <th>ocid</th>\n    </tr>\n  </thead>\n  <tbody>\n    <tr>\n      <th>0</th>\n      <td>1</td>\n      <td>IDM3</td>\n      <td>IT-CF-NAN</td>\n      <td>NaN</td>\n      <td>NaN</td>\n      <td>NAN</td>\n      <td>NaN</td>\n      <td>idm3</td>\n      <td>ocds-bxokds-IDM3</td>\n    </tr>\n    <tr>\n      <th>1</th>\n      <td>2</td>\n      <td>IDM15</td>\n      <td>IT-CF-02213820208</td>\n      <td>Publika srl</td>\n      <td>NaN</td>\n      <td>NAN</td>\n      <td>NaN</td>\n      <td>idm15</td>\n      <td>ocds-bxokds-IDM15</td>\n    </tr>\n    <tr>\n      <th>2</th>\n      <td>3</td>\n      <td>IDM35</td>\n      <td>IT-CF-84006890481</td>\n      <td>Corpo di Polizia Municipale</td>\n      <td>NaN</td>\n      <td>NAN</td>\n      <td>NaN</td>\n      <td>idm35</td>\n      <td>ocds-bxokds-IDM35</td>\n    </tr>\n    <tr>\n      <th>3</th>\n      <td>4</td>\n      <td>IDM55</td>\n      <td>IT-CF-NAN</td>\n      <td>NaN</td>\n      <td>NaN</td>\n      <td>NAN</td>\n      <td>NaN</td>\n      <td>idm55</td>\n      <td>ocds-bxokds-IDM55</td>\n    </tr>\n    <tr>\n      <th>4</th>\n      <td>5</td>\n      <td>IDM67</td>\n      <td>IT-CF-02213820208</td>\n      <td>Publika srl</td>\n      <td>NaN</td>\n      <td>NAN</td>\n      <td>NaN</td>\n      <td>idm67</td>\n      <td>ocds-bxokds-IDM67</td>\n    </tr>\n  </tbody>\n</table>\n</div>"
     },
     "metadata": {},
     "execution_count": 5
    }
   ],
   "source": [
    "agg_input = read_aggiudicatari(work_dir)\n",
    "\n",
    "agg_input.head()"
   ]
  },
  {
   "cell_type": "code",
   "execution_count": 17,
   "metadata": {},
   "outputs": [
    {
     "output_type": "execute_result",
     "data": {
      "text/plain": [
       "   n    cig      codiceFiscale               ragioneSociale ruolo  \\\n",
       "0  1   IDM3          IT-CF-NAN                          NaN   NaN   \n",
       "1  2  IDM15  IT-CF-02213820208                  Publika srl   NaN   \n",
       "2  3  IDM35  IT-CF-84006890481  Corpo di Polizia Municipale   NaN   \n",
       "3  4  IDM55          IT-CF-NAN                          NaN   NaN   \n",
       "4  5  IDM67  IT-CF-02213820208                      Publika   NaN   \n",
       "\n",
       "  identificativoFiscaleEstero  partrgrno lottoID               ocid  \n",
       "0                         NAN        NaN    idm3   ocds-bxokds-IDM3  \n",
       "1                         NAN        NaN   idm15  ocds-bxokds-IDM15  \n",
       "2                         NAN        NaN   idm35  ocds-bxokds-IDM35  \n",
       "3                         NAN        NaN   idm55  ocds-bxokds-IDM55  \n",
       "4                         NAN        NaN   idm67  ocds-bxokds-IDM67  "
      ],
      "text/html": "<div>\n<style scoped>\n    .dataframe tbody tr th:only-of-type {\n        vertical-align: middle;\n    }\n\n    .dataframe tbody tr th {\n        vertical-align: top;\n    }\n\n    .dataframe thead th {\n        text-align: right;\n    }\n</style>\n<table border=\"1\" class=\"dataframe\">\n  <thead>\n    <tr style=\"text-align: right;\">\n      <th></th>\n      <th>n</th>\n      <th>cig</th>\n      <th>codiceFiscale</th>\n      <th>ragioneSociale</th>\n      <th>ruolo</th>\n      <th>identificativoFiscaleEstero</th>\n      <th>partrgrno</th>\n      <th>lottoID</th>\n      <th>ocid</th>\n    </tr>\n  </thead>\n  <tbody>\n    <tr>\n      <th>0</th>\n      <td>1</td>\n      <td>IDM3</td>\n      <td>IT-CF-NAN</td>\n      <td>NaN</td>\n      <td>NaN</td>\n      <td>NAN</td>\n      <td>NaN</td>\n      <td>idm3</td>\n      <td>ocds-bxokds-IDM3</td>\n    </tr>\n    <tr>\n      <th>1</th>\n      <td>2</td>\n      <td>IDM15</td>\n      <td>IT-CF-02213820208</td>\n      <td>Publika srl</td>\n      <td>NaN</td>\n      <td>NAN</td>\n      <td>NaN</td>\n      <td>idm15</td>\n      <td>ocds-bxokds-IDM15</td>\n    </tr>\n    <tr>\n      <th>2</th>\n      <td>3</td>\n      <td>IDM35</td>\n      <td>IT-CF-84006890481</td>\n      <td>Corpo di Polizia Municipale</td>\n      <td>NaN</td>\n      <td>NAN</td>\n      <td>NaN</td>\n      <td>idm35</td>\n      <td>ocds-bxokds-IDM35</td>\n    </tr>\n    <tr>\n      <th>3</th>\n      <td>4</td>\n      <td>IDM55</td>\n      <td>IT-CF-NAN</td>\n      <td>NaN</td>\n      <td>NaN</td>\n      <td>NAN</td>\n      <td>NaN</td>\n      <td>idm55</td>\n      <td>ocds-bxokds-IDM55</td>\n    </tr>\n    <tr>\n      <th>4</th>\n      <td>5</td>\n      <td>IDM67</td>\n      <td>IT-CF-02213820208</td>\n      <td>Publika</td>\n      <td>NaN</td>\n      <td>NAN</td>\n      <td>NaN</td>\n      <td>idm67</td>\n      <td>ocds-bxokds-IDM67</td>\n    </tr>\n  </tbody>\n</table>\n</div>"
     },
     "metadata": {},
     "execution_count": 17
    }
   ],
   "source": [
    "par_input = read_partecipanti(work_dir)\n",
    "\n",
    "par_input.head()\n"
   ]
  },
  {
   "cell_type": "code",
   "execution_count": 18,
   "metadata": {},
   "outputs": [
    {
     "output_type": "execute_result",
     "data": {
      "text/plain": [
       "   n    cig strutturaProponente:codiceFiscaleProp  \\\n",
       "0  1   IDM3                     IT-CF-84006890481   \n",
       "1  2  IDM15                     IT-CF-84006890481   \n",
       "2  3  IDM35                     IT-CF-84006890481   \n",
       "3  4  IDM55                     IT-CF-84006890481   \n",
       "4  5  IDM67                     IT-CF-84006890481   \n",
       "\n",
       "  strutturaProponente:denominazione  importoAggiudicazione  \\\n",
       "0                   Comune di Prato                 111.00   \n",
       "1                   Comune di Prato                 370.00   \n",
       "2                   Comune di Prato                 284.26   \n",
       "3                   Comune di Prato                   7.00   \n",
       "4                   Comune di Prato                 370.00   \n",
       "\n",
       "   importoSommeLiquidate                                            oggetto  \\\n",
       "0                   0.00  Solenni Alessandro - Autorizzazione svolgiment...   \n",
       "1                   0.00  Partecipazione di un dipendente a corso di for...   \n",
       "2                 284.26  Rimborso tramite economo di spesa per l'acquis...   \n",
       "3                   0.00  Consiag Servizi Comuni- Giardini via Vulcano -...   \n",
       "4                   0.00                     Liquidazione corso formazione:   \n",
       "\n",
       "                             sceltaContraente tempiCompletamento:dataInizio  \\\n",
       "0                         01-PROCEDURA APERTA                           NaN   \n",
       "1                      23-AFFIDAMENTO DIRETTO          2019-02-18T09:30:00Z   \n",
       "2                      23-AFFIDAMENTO DIRETTO          2019-01-23T09:30:00Z   \n",
       "3  24-AFFIDAMENTO DIRETTO A SOCIETA' IN HOUSE                           NaN   \n",
       "4                      23-AFFIDAMENTO DIRETTO          2019-02-18T09:30:00Z   \n",
       "\n",
       "  tempiCompletamento:dataUltimazione lottoID               ocid  \n",
       "0                                NaN    idm3   ocds-bxokds-IDM3  \n",
       "1               2019-03-13T09:30:00Z   idm15  ocds-bxokds-IDM15  \n",
       "2               2019-02-07T09:30:00Z   idm35  ocds-bxokds-IDM35  \n",
       "3                                NaN   idm55  ocds-bxokds-IDM55  \n",
       "4               2019-03-13T09:30:00Z   idm67  ocds-bxokds-IDM67  "
      ],
      "text/html": "<div>\n<style scoped>\n    .dataframe tbody tr th:only-of-type {\n        vertical-align: middle;\n    }\n\n    .dataframe tbody tr th {\n        vertical-align: top;\n    }\n\n    .dataframe thead th {\n        text-align: right;\n    }\n</style>\n<table border=\"1\" class=\"dataframe\">\n  <thead>\n    <tr style=\"text-align: right;\">\n      <th></th>\n      <th>n</th>\n      <th>cig</th>\n      <th>strutturaProponente:codiceFiscaleProp</th>\n      <th>strutturaProponente:denominazione</th>\n      <th>importoAggiudicazione</th>\n      <th>importoSommeLiquidate</th>\n      <th>oggetto</th>\n      <th>sceltaContraente</th>\n      <th>tempiCompletamento:dataInizio</th>\n      <th>tempiCompletamento:dataUltimazione</th>\n      <th>lottoID</th>\n      <th>ocid</th>\n    </tr>\n  </thead>\n  <tbody>\n    <tr>\n      <th>0</th>\n      <td>1</td>\n      <td>IDM3</td>\n      <td>IT-CF-84006890481</td>\n      <td>Comune di Prato</td>\n      <td>111.00</td>\n      <td>0.00</td>\n      <td>Solenni Alessandro - Autorizzazione svolgiment...</td>\n      <td>01-PROCEDURA APERTA</td>\n      <td>NaN</td>\n      <td>NaN</td>\n      <td>idm3</td>\n      <td>ocds-bxokds-IDM3</td>\n    </tr>\n    <tr>\n      <th>1</th>\n      <td>2</td>\n      <td>IDM15</td>\n      <td>IT-CF-84006890481</td>\n      <td>Comune di Prato</td>\n      <td>370.00</td>\n      <td>0.00</td>\n      <td>Partecipazione di un dipendente a corso di for...</td>\n      <td>23-AFFIDAMENTO DIRETTO</td>\n      <td>2019-02-18T09:30:00Z</td>\n      <td>2019-03-13T09:30:00Z</td>\n      <td>idm15</td>\n      <td>ocds-bxokds-IDM15</td>\n    </tr>\n    <tr>\n      <th>2</th>\n      <td>3</td>\n      <td>IDM35</td>\n      <td>IT-CF-84006890481</td>\n      <td>Comune di Prato</td>\n      <td>284.26</td>\n      <td>284.26</td>\n      <td>Rimborso tramite economo di spesa per l'acquis...</td>\n      <td>23-AFFIDAMENTO DIRETTO</td>\n      <td>2019-01-23T09:30:00Z</td>\n      <td>2019-02-07T09:30:00Z</td>\n      <td>idm35</td>\n      <td>ocds-bxokds-IDM35</td>\n    </tr>\n    <tr>\n      <th>3</th>\n      <td>4</td>\n      <td>IDM55</td>\n      <td>IT-CF-84006890481</td>\n      <td>Comune di Prato</td>\n      <td>7.00</td>\n      <td>0.00</td>\n      <td>Consiag Servizi Comuni- Giardini via Vulcano -...</td>\n      <td>24-AFFIDAMENTO DIRETTO A SOCIETA' IN HOUSE</td>\n      <td>NaN</td>\n      <td>NaN</td>\n      <td>idm55</td>\n      <td>ocds-bxokds-IDM55</td>\n    </tr>\n    <tr>\n      <th>4</th>\n      <td>5</td>\n      <td>IDM67</td>\n      <td>IT-CF-84006890481</td>\n      <td>Comune di Prato</td>\n      <td>370.00</td>\n      <td>0.00</td>\n      <td>Liquidazione corso formazione:</td>\n      <td>23-AFFIDAMENTO DIRETTO</td>\n      <td>2019-02-18T09:30:00Z</td>\n      <td>2019-03-13T09:30:00Z</td>\n      <td>idm67</td>\n      <td>ocds-bxokds-IDM67</td>\n    </tr>\n  </tbody>\n</table>\n</div>"
     },
     "metadata": {},
     "execution_count": 18
    }
   ],
   "source": [
    "\n",
    "lot_input = read_lotti(work_dir)\n",
    "\n",
    "lot_input.head()"
   ]
  },
  {
   "cell_type": "code",
   "execution_count": 20,
   "metadata": {},
   "outputs": [
    {
     "output_type": "execute_result",
     "data": {
      "text/plain": [
       "                ocid     id                  date    tag initiationType  \\\n",
       "0   ocds-bxokds-IDM3   IDM3  2020-10-15T00:00:00Z  award         tender   \n",
       "1  ocds-bxokds-IDM15  IDM15  2020-10-15T00:00:00Z  award         tender   \n",
       "2  ocds-bxokds-IDM35  IDM35  2020-10-15T00:00:00Z  award         tender   \n",
       "3  ocds-bxokds-IDM55  IDM55  2020-10-15T00:00:00Z  award         tender   \n",
       "4  ocds-bxokds-IDM67  IDM67  2020-10-15T00:00:00Z  award         tender   \n",
       "\n",
       "        buyer/name           buyer/id tender/id  \\\n",
       "0  Comune di Prato  IT-CF-84006890481      IDM3   \n",
       "1  Comune di Prato  IT-CF-84006890481     IDM15   \n",
       "2  Comune di Prato  IT-CF-84006890481     IDM35   \n",
       "3  Comune di Prato  IT-CF-84006890481     IDM55   \n",
       "4  Comune di Prato  IT-CF-84006890481     IDM67   \n",
       "\n",
       "                                        tender/title  \\\n",
       "0  Solenni Alessandro - Autorizzazione svolgiment...   \n",
       "1  Partecipazione di un dipendente a corso di for...   \n",
       "2  Rimborso tramite economo di spesa per l'acquis...   \n",
       "3  Consiag Servizi Comuni- Giardini via Vulcano -...   \n",
       "4                     Liquidazione corso formazione:   \n",
       "\n",
       "  tender/procuringEntity/name tender/procuringEntity/id tender/items/id  \\\n",
       "0                         NaN         IT-CF-84006890481             NaN   \n",
       "1                         NaN         IT-CF-84006890481             NaN   \n",
       "2                         NaN         IT-CF-84006890481             NaN   \n",
       "3                         NaN         IT-CF-84006890481             NaN   \n",
       "4                         NaN         IT-CF-84006890481             NaN   \n",
       "\n",
       "              tender/procurementMethodDetails tender/contractPeriod/startDate  \\\n",
       "0                         01-PROCEDURA APERTA                             NaN   \n",
       "1                      23-AFFIDAMENTO DIRETTO            2019-02-18T09:30:00Z   \n",
       "2                      23-AFFIDAMENTO DIRETTO            2019-01-23T09:30:00Z   \n",
       "3  24-AFFIDAMENTO DIRETTO A SOCIETA' IN HOUSE                             NaN   \n",
       "4                      23-AFFIDAMENTO DIRETTO            2019-02-18T09:30:00Z   \n",
       "\n",
       "  tender/contractPeriod/endDate  \n",
       "0                           NaN  \n",
       "1          2019-03-13T09:30:00Z  \n",
       "2          2019-02-07T09:30:00Z  \n",
       "3                           NaN  \n",
       "4          2019-03-13T09:30:00Z  "
      ],
      "text/html": "<div>\n<style scoped>\n    .dataframe tbody tr th:only-of-type {\n        vertical-align: middle;\n    }\n\n    .dataframe tbody tr th {\n        vertical-align: top;\n    }\n\n    .dataframe thead th {\n        text-align: right;\n    }\n</style>\n<table border=\"1\" class=\"dataframe\">\n  <thead>\n    <tr style=\"text-align: right;\">\n      <th></th>\n      <th>ocid</th>\n      <th>id</th>\n      <th>date</th>\n      <th>tag</th>\n      <th>initiationType</th>\n      <th>buyer/name</th>\n      <th>buyer/id</th>\n      <th>tender/id</th>\n      <th>tender/title</th>\n      <th>tender/procuringEntity/name</th>\n      <th>tender/procuringEntity/id</th>\n      <th>tender/items/id</th>\n      <th>tender/procurementMethodDetails</th>\n      <th>tender/contractPeriod/startDate</th>\n      <th>tender/contractPeriod/endDate</th>\n    </tr>\n  </thead>\n  <tbody>\n    <tr>\n      <th>0</th>\n      <td>ocds-bxokds-IDM3</td>\n      <td>IDM3</td>\n      <td>2020-10-15T00:00:00Z</td>\n      <td>award</td>\n      <td>tender</td>\n      <td>Comune di Prato</td>\n      <td>IT-CF-84006890481</td>\n      <td>IDM3</td>\n      <td>Solenni Alessandro - Autorizzazione svolgiment...</td>\n      <td>NaN</td>\n      <td>IT-CF-84006890481</td>\n      <td>NaN</td>\n      <td>01-PROCEDURA APERTA</td>\n      <td>NaN</td>\n      <td>NaN</td>\n    </tr>\n    <tr>\n      <th>1</th>\n      <td>ocds-bxokds-IDM15</td>\n      <td>IDM15</td>\n      <td>2020-10-15T00:00:00Z</td>\n      <td>award</td>\n      <td>tender</td>\n      <td>Comune di Prato</td>\n      <td>IT-CF-84006890481</td>\n      <td>IDM15</td>\n      <td>Partecipazione di un dipendente a corso di for...</td>\n      <td>NaN</td>\n      <td>IT-CF-84006890481</td>\n      <td>NaN</td>\n      <td>23-AFFIDAMENTO DIRETTO</td>\n      <td>2019-02-18T09:30:00Z</td>\n      <td>2019-03-13T09:30:00Z</td>\n    </tr>\n    <tr>\n      <th>2</th>\n      <td>ocds-bxokds-IDM35</td>\n      <td>IDM35</td>\n      <td>2020-10-15T00:00:00Z</td>\n      <td>award</td>\n      <td>tender</td>\n      <td>Comune di Prato</td>\n      <td>IT-CF-84006890481</td>\n      <td>IDM35</td>\n      <td>Rimborso tramite economo di spesa per l'acquis...</td>\n      <td>NaN</td>\n      <td>IT-CF-84006890481</td>\n      <td>NaN</td>\n      <td>23-AFFIDAMENTO DIRETTO</td>\n      <td>2019-01-23T09:30:00Z</td>\n      <td>2019-02-07T09:30:00Z</td>\n    </tr>\n    <tr>\n      <th>3</th>\n      <td>ocds-bxokds-IDM55</td>\n      <td>IDM55</td>\n      <td>2020-10-15T00:00:00Z</td>\n      <td>award</td>\n      <td>tender</td>\n      <td>Comune di Prato</td>\n      <td>IT-CF-84006890481</td>\n      <td>IDM55</td>\n      <td>Consiag Servizi Comuni- Giardini via Vulcano -...</td>\n      <td>NaN</td>\n      <td>IT-CF-84006890481</td>\n      <td>NaN</td>\n      <td>24-AFFIDAMENTO DIRETTO A SOCIETA' IN HOUSE</td>\n      <td>NaN</td>\n      <td>NaN</td>\n    </tr>\n    <tr>\n      <th>4</th>\n      <td>ocds-bxokds-IDM67</td>\n      <td>IDM67</td>\n      <td>2020-10-15T00:00:00Z</td>\n      <td>award</td>\n      <td>tender</td>\n      <td>Comune di Prato</td>\n      <td>IT-CF-84006890481</td>\n      <td>IDM67</td>\n      <td>Liquidazione corso formazione:</td>\n      <td>NaN</td>\n      <td>IT-CF-84006890481</td>\n      <td>NaN</td>\n      <td>23-AFFIDAMENTO DIRETTO</td>\n      <td>2019-02-18T09:30:00Z</td>\n      <td>2019-03-13T09:30:00Z</td>\n    </tr>\n  </tbody>\n</table>\n</div>"
     },
     "metadata": {},
     "execution_count": 20
    }
   ],
   "source": [
    "\n",
    "\n",
    "\n",
    "releases = create_releases(lot_input, '2020-10-15T00:00:00Z', 'award', 'tender')\n",
    "\n",
    "releases.head()"
   ]
  },
  {
   "cell_type": "code",
   "execution_count": 9,
   "metadata": {},
   "outputs": [
    {
     "output_type": "execute_result",
     "data": {
      "text/plain": [
       "                         ocid          id                    parties/0/name  \\\n",
       "index                                                                         \n",
       "0      ocds-bxokds-7653900616  7653900616  GHIORI DI MARCO E CLAUDIO GHIORI   \n",
       "1      ocds-bxokds-7653900616  7653900616     IDROCLIMA G.V. DI GRIPPO VITO   \n",
       "2      ocds-bxokds-7653900616  7653900616     TECNO TRADE INTERNATIONAL SRL   \n",
       "3      ocds-bxokds-7653900616  7653900616          BRUNETTI COSTRUZIONI SRL   \n",
       "4      ocds-bxokds-7653900616  7653900616                         GHERI SRL   \n",
       "...                       ...         ...                               ...   \n",
       "2975   ocds-bxokds-ZF92952DB4  ZF92952DB4                     PEDRINI LORIS   \n",
       "2976   ocds-bxokds-ZF92A9CC8C  ZF92A9CC8C   FONDERIA CULTART COOP.SOC.ONLUS   \n",
       "2977   ocds-bxokds-ZF92B2D47E  ZF92B2D47E                     Libera Caccia   \n",
       "2978   ocds-bxokds-ZFA2857526  ZFA2857526                      TELEPASS SPA   \n",
       "2979   ocds-bxokds-ZFA286A227  ZFA286A227                     PAPINI MATTEO   \n",
       "\n",
       "                 parties/0/id    parties/0/roles parties/0/memberOf/id  \\\n",
       "index                                                                    \n",
       "0           IT-CF-05133380484           tenderer                   NaN   \n",
       "1      IT-CF-GRPVTI68B25D403F           tenderer                   NaN   \n",
       "2           IT-CF-04517430486           tenderer                   NaN   \n",
       "3           IT-CF-02349410973           tenderer                   NaN   \n",
       "4           IT-CF-02106440973           tenderer                   NaN   \n",
       "...                       ...                ...                   ...   \n",
       "2975        IT-CF-03664810482  supplier;tenderer                   NaN   \n",
       "2976        IT-CF-02178940975  supplier;tenderer                   NaN   \n",
       "2977        IT-CF-92054560484  supplier;tenderer                   NaN   \n",
       "2978        IT-CF-09771701001  supplier;tenderer                   NaN   \n",
       "2979        IT-CF-01959690973  supplier;tenderer                   NaN   \n",
       "\n",
       "      parties/0/memberOf/name  \n",
       "index                          \n",
       "0                         NaN  \n",
       "1                         NaN  \n",
       "2                         NaN  \n",
       "3                         NaN  \n",
       "4                         NaN  \n",
       "...                       ...  \n",
       "2975                      NaN  \n",
       "2976                      NaN  \n",
       "2977                      NaN  \n",
       "2978                      NaN  \n",
       "2979                      NaN  \n",
       "\n",
       "[2980 rows x 7 columns]"
      ],
      "text/html": "<div>\n<style scoped>\n    .dataframe tbody tr th:only-of-type {\n        vertical-align: middle;\n    }\n\n    .dataframe tbody tr th {\n        vertical-align: top;\n    }\n\n    .dataframe thead th {\n        text-align: right;\n    }\n</style>\n<table border=\"1\" class=\"dataframe\">\n  <thead>\n    <tr style=\"text-align: right;\">\n      <th></th>\n      <th>ocid</th>\n      <th>id</th>\n      <th>parties/0/name</th>\n      <th>parties/0/id</th>\n      <th>parties/0/roles</th>\n      <th>parties/0/memberOf/id</th>\n      <th>parties/0/memberOf/name</th>\n    </tr>\n    <tr>\n      <th>index</th>\n      <th></th>\n      <th></th>\n      <th></th>\n      <th></th>\n      <th></th>\n      <th></th>\n      <th></th>\n    </tr>\n  </thead>\n  <tbody>\n    <tr>\n      <th>0</th>\n      <td>ocds-bxokds-7653900616</td>\n      <td>7653900616</td>\n      <td>GHIORI DI MARCO E CLAUDIO GHIORI</td>\n      <td>IT-CF-05133380484</td>\n      <td>tenderer</td>\n      <td>NaN</td>\n      <td>NaN</td>\n    </tr>\n    <tr>\n      <th>1</th>\n      <td>ocds-bxokds-7653900616</td>\n      <td>7653900616</td>\n      <td>IDROCLIMA G.V. DI GRIPPO VITO</td>\n      <td>IT-CF-GRPVTI68B25D403F</td>\n      <td>tenderer</td>\n      <td>NaN</td>\n      <td>NaN</td>\n    </tr>\n    <tr>\n      <th>2</th>\n      <td>ocds-bxokds-7653900616</td>\n      <td>7653900616</td>\n      <td>TECNO TRADE INTERNATIONAL SRL</td>\n      <td>IT-CF-04517430486</td>\n      <td>tenderer</td>\n      <td>NaN</td>\n      <td>NaN</td>\n    </tr>\n    <tr>\n      <th>3</th>\n      <td>ocds-bxokds-7653900616</td>\n      <td>7653900616</td>\n      <td>BRUNETTI COSTRUZIONI SRL</td>\n      <td>IT-CF-02349410973</td>\n      <td>tenderer</td>\n      <td>NaN</td>\n      <td>NaN</td>\n    </tr>\n    <tr>\n      <th>4</th>\n      <td>ocds-bxokds-7653900616</td>\n      <td>7653900616</td>\n      <td>GHERI SRL</td>\n      <td>IT-CF-02106440973</td>\n      <td>tenderer</td>\n      <td>NaN</td>\n      <td>NaN</td>\n    </tr>\n    <tr>\n      <th>...</th>\n      <td>...</td>\n      <td>...</td>\n      <td>...</td>\n      <td>...</td>\n      <td>...</td>\n      <td>...</td>\n      <td>...</td>\n    </tr>\n    <tr>\n      <th>2975</th>\n      <td>ocds-bxokds-ZF92952DB4</td>\n      <td>ZF92952DB4</td>\n      <td>PEDRINI LORIS</td>\n      <td>IT-CF-03664810482</td>\n      <td>supplier;tenderer</td>\n      <td>NaN</td>\n      <td>NaN</td>\n    </tr>\n    <tr>\n      <th>2976</th>\n      <td>ocds-bxokds-ZF92A9CC8C</td>\n      <td>ZF92A9CC8C</td>\n      <td>FONDERIA CULTART COOP.SOC.ONLUS</td>\n      <td>IT-CF-02178940975</td>\n      <td>supplier;tenderer</td>\n      <td>NaN</td>\n      <td>NaN</td>\n    </tr>\n    <tr>\n      <th>2977</th>\n      <td>ocds-bxokds-ZF92B2D47E</td>\n      <td>ZF92B2D47E</td>\n      <td>Libera Caccia</td>\n      <td>IT-CF-92054560484</td>\n      <td>supplier;tenderer</td>\n      <td>NaN</td>\n      <td>NaN</td>\n    </tr>\n    <tr>\n      <th>2978</th>\n      <td>ocds-bxokds-ZFA2857526</td>\n      <td>ZFA2857526</td>\n      <td>TELEPASS SPA</td>\n      <td>IT-CF-09771701001</td>\n      <td>supplier;tenderer</td>\n      <td>NaN</td>\n      <td>NaN</td>\n    </tr>\n    <tr>\n      <th>2979</th>\n      <td>ocds-bxokds-ZFA286A227</td>\n      <td>ZFA286A227</td>\n      <td>PAPINI MATTEO</td>\n      <td>IT-CF-01959690973</td>\n      <td>supplier;tenderer</td>\n      <td>NaN</td>\n      <td>NaN</td>\n    </tr>\n  </tbody>\n</table>\n<p>2980 rows × 7 columns</p>\n</div>"
     },
     "metadata": {},
     "execution_count": 9
    }
   ],
   "source": [
    "\n",
    "parties = create_parties(par_input, agg_input)\n",
    "\n",
    "parties.head()"
   ]
  },
  {
   "cell_type": "code",
   "execution_count": 10,
   "metadata": {},
   "outputs": [
    {
     "output_type": "execute_result",
     "data": {
      "text/plain": [
       "                        ocid          id   tender/id  \\\n",
       "0           ocds-bxokds-IDM3        IDM3        IDM3   \n",
       "1          ocds-bxokds-IDM15       IDM15       IDM15   \n",
       "2          ocds-bxokds-IDM35       IDM35       IDM35   \n",
       "3          ocds-bxokds-IDM55       IDM55       IDM55   \n",
       "4          ocds-bxokds-IDM67       IDM67       IDM67   \n",
       "...                      ...         ...         ...   \n",
       "2971  ocds-bxokds-ZF92952DB4  ZF92952DB4  ZF92952DB4   \n",
       "2972  ocds-bxokds-ZF92A9CC8C  ZF92A9CC8C  ZF92A9CC8C   \n",
       "2973  ocds-bxokds-ZF92B2D47E  ZF92B2D47E  ZF92B2D47E   \n",
       "2974  ocds-bxokds-ZFA2857526  ZFA2857526  ZFA2857526   \n",
       "2975  ocds-bxokds-ZFA286A227  ZFA286A227  ZFA286A227   \n",
       "\n",
       "                   tender/tenderers/0/name tender/tenderers/0/id  \n",
       "0                                      NaN             IT-CF-NAN  \n",
       "1                              Publika srl     IT-CF-02213820208  \n",
       "2              Corpo di Polizia Municipale     IT-CF-84006890481  \n",
       "3                                      NaN             IT-CF-NAN  \n",
       "4                                  Publika     IT-CF-02213820208  \n",
       "...                                    ...                   ...  \n",
       "2971                         PEDRINI LORIS     IT-CF-03664810482  \n",
       "2972                      Fonderia Cultart     IT-CF-02178940975  \n",
       "2973  ASSOCIAZIONE VENATORIA LIBERA CACCIA     IT-CF-92054560484  \n",
       "2974                          TELEPASS SPA     IT-CF-09771701001  \n",
       "2975                         PAPINI MATTEO     IT-CF-01959690973  \n",
       "\n",
       "[2976 rows x 5 columns]"
      ],
      "text/html": "<div>\n<style scoped>\n    .dataframe tbody tr th:only-of-type {\n        vertical-align: middle;\n    }\n\n    .dataframe tbody tr th {\n        vertical-align: top;\n    }\n\n    .dataframe thead th {\n        text-align: right;\n    }\n</style>\n<table border=\"1\" class=\"dataframe\">\n  <thead>\n    <tr style=\"text-align: right;\">\n      <th></th>\n      <th>ocid</th>\n      <th>id</th>\n      <th>tender/id</th>\n      <th>tender/tenderers/0/name</th>\n      <th>tender/tenderers/0/id</th>\n    </tr>\n  </thead>\n  <tbody>\n    <tr>\n      <th>0</th>\n      <td>ocds-bxokds-IDM3</td>\n      <td>IDM3</td>\n      <td>IDM3</td>\n      <td>NaN</td>\n      <td>IT-CF-NAN</td>\n    </tr>\n    <tr>\n      <th>1</th>\n      <td>ocds-bxokds-IDM15</td>\n      <td>IDM15</td>\n      <td>IDM15</td>\n      <td>Publika srl</td>\n      <td>IT-CF-02213820208</td>\n    </tr>\n    <tr>\n      <th>2</th>\n      <td>ocds-bxokds-IDM35</td>\n      <td>IDM35</td>\n      <td>IDM35</td>\n      <td>Corpo di Polizia Municipale</td>\n      <td>IT-CF-84006890481</td>\n    </tr>\n    <tr>\n      <th>3</th>\n      <td>ocds-bxokds-IDM55</td>\n      <td>IDM55</td>\n      <td>IDM55</td>\n      <td>NaN</td>\n      <td>IT-CF-NAN</td>\n    </tr>\n    <tr>\n      <th>4</th>\n      <td>ocds-bxokds-IDM67</td>\n      <td>IDM67</td>\n      <td>IDM67</td>\n      <td>Publika</td>\n      <td>IT-CF-02213820208</td>\n    </tr>\n    <tr>\n      <th>...</th>\n      <td>...</td>\n      <td>...</td>\n      <td>...</td>\n      <td>...</td>\n      <td>...</td>\n    </tr>\n    <tr>\n      <th>2971</th>\n      <td>ocds-bxokds-ZF92952DB4</td>\n      <td>ZF92952DB4</td>\n      <td>ZF92952DB4</td>\n      <td>PEDRINI LORIS</td>\n      <td>IT-CF-03664810482</td>\n    </tr>\n    <tr>\n      <th>2972</th>\n      <td>ocds-bxokds-ZF92A9CC8C</td>\n      <td>ZF92A9CC8C</td>\n      <td>ZF92A9CC8C</td>\n      <td>Fonderia Cultart</td>\n      <td>IT-CF-02178940975</td>\n    </tr>\n    <tr>\n      <th>2973</th>\n      <td>ocds-bxokds-ZF92B2D47E</td>\n      <td>ZF92B2D47E</td>\n      <td>ZF92B2D47E</td>\n      <td>ASSOCIAZIONE VENATORIA LIBERA CACCIA</td>\n      <td>IT-CF-92054560484</td>\n    </tr>\n    <tr>\n      <th>2974</th>\n      <td>ocds-bxokds-ZFA2857526</td>\n      <td>ZFA2857526</td>\n      <td>ZFA2857526</td>\n      <td>TELEPASS SPA</td>\n      <td>IT-CF-09771701001</td>\n    </tr>\n    <tr>\n      <th>2975</th>\n      <td>ocds-bxokds-ZFA286A227</td>\n      <td>ZFA286A227</td>\n      <td>ZFA286A227</td>\n      <td>PAPINI MATTEO</td>\n      <td>IT-CF-01959690973</td>\n    </tr>\n  </tbody>\n</table>\n<p>2976 rows × 5 columns</p>\n</div>"
     },
     "metadata": {},
     "execution_count": 10
    }
   ],
   "source": [
    "\n",
    "\n",
    "\n",
    "tende_tenderers = create_tende_tenderers(par_input)\n",
    "\n",
    "tende_tenderers.head()"
   ]
  },
  {
   "cell_type": "code",
   "execution_count": 11,
   "metadata": {
    "tags": []
   },
   "outputs": [
    {
     "output_type": "execute_result",
     "data": {
      "text/plain": [
       "                        ocid          id awards/0/id  awards/0/value/amount\n",
       "0           ocds-bxokds-IDM3        IDM3        IDM3                 111.00\n",
       "1          ocds-bxokds-IDM15       IDM15       IDM15                 370.00\n",
       "2          ocds-bxokds-IDM35       IDM35       IDM35                 284.26\n",
       "3          ocds-bxokds-IDM55       IDM55       IDM55                   7.00\n",
       "4          ocds-bxokds-IDM67       IDM67       IDM67                 370.00\n",
       "...                      ...         ...         ...                    ...\n",
       "1606  ocds-bxokds-ZF92952DB4  ZF92952DB4  ZF92952DB4                3278.69\n",
       "1607  ocds-bxokds-ZF92A9CC8C  ZF92A9CC8C  ZF92A9CC8C                 150.00\n",
       "1608  ocds-bxokds-ZF92B2D47E  ZF92B2D47E  ZF92B2D47E                2500.00\n",
       "1609  ocds-bxokds-ZFA2857526  ZFA2857526  ZFA2857526                1600.00\n",
       "1610  ocds-bxokds-ZFA286A227  ZFA286A227  ZFA286A227                1466.40\n",
       "\n",
       "[1611 rows x 4 columns]"
      ],
      "text/html": "<div>\n<style scoped>\n    .dataframe tbody tr th:only-of-type {\n        vertical-align: middle;\n    }\n\n    .dataframe tbody tr th {\n        vertical-align: top;\n    }\n\n    .dataframe thead th {\n        text-align: right;\n    }\n</style>\n<table border=\"1\" class=\"dataframe\">\n  <thead>\n    <tr style=\"text-align: right;\">\n      <th></th>\n      <th>ocid</th>\n      <th>id</th>\n      <th>awards/0/id</th>\n      <th>awards/0/value/amount</th>\n    </tr>\n  </thead>\n  <tbody>\n    <tr>\n      <th>0</th>\n      <td>ocds-bxokds-IDM3</td>\n      <td>IDM3</td>\n      <td>IDM3</td>\n      <td>111.00</td>\n    </tr>\n    <tr>\n      <th>1</th>\n      <td>ocds-bxokds-IDM15</td>\n      <td>IDM15</td>\n      <td>IDM15</td>\n      <td>370.00</td>\n    </tr>\n    <tr>\n      <th>2</th>\n      <td>ocds-bxokds-IDM35</td>\n      <td>IDM35</td>\n      <td>IDM35</td>\n      <td>284.26</td>\n    </tr>\n    <tr>\n      <th>3</th>\n      <td>ocds-bxokds-IDM55</td>\n      <td>IDM55</td>\n      <td>IDM55</td>\n      <td>7.00</td>\n    </tr>\n    <tr>\n      <th>4</th>\n      <td>ocds-bxokds-IDM67</td>\n      <td>IDM67</td>\n      <td>IDM67</td>\n      <td>370.00</td>\n    </tr>\n    <tr>\n      <th>...</th>\n      <td>...</td>\n      <td>...</td>\n      <td>...</td>\n      <td>...</td>\n    </tr>\n    <tr>\n      <th>1606</th>\n      <td>ocds-bxokds-ZF92952DB4</td>\n      <td>ZF92952DB4</td>\n      <td>ZF92952DB4</td>\n      <td>3278.69</td>\n    </tr>\n    <tr>\n      <th>1607</th>\n      <td>ocds-bxokds-ZF92A9CC8C</td>\n      <td>ZF92A9CC8C</td>\n      <td>ZF92A9CC8C</td>\n      <td>150.00</td>\n    </tr>\n    <tr>\n      <th>1608</th>\n      <td>ocds-bxokds-ZF92B2D47E</td>\n      <td>ZF92B2D47E</td>\n      <td>ZF92B2D47E</td>\n      <td>2500.00</td>\n    </tr>\n    <tr>\n      <th>1609</th>\n      <td>ocds-bxokds-ZFA2857526</td>\n      <td>ZFA2857526</td>\n      <td>ZFA2857526</td>\n      <td>1600.00</td>\n    </tr>\n    <tr>\n      <th>1610</th>\n      <td>ocds-bxokds-ZFA286A227</td>\n      <td>ZFA286A227</td>\n      <td>ZFA286A227</td>\n      <td>1466.40</td>\n    </tr>\n  </tbody>\n</table>\n<p>1611 rows × 4 columns</p>\n</div>"
     },
     "metadata": {},
     "execution_count": 11
    }
   ],
   "source": [
    "\n",
    "awards = create_awards(lot_input)\n",
    "\n",
    "\n",
    "awards.head()"
   ]
  },
  {
   "cell_type": "code",
   "execution_count": 12,
   "metadata": {
    "tags": []
   },
   "outputs": [],
   "source": [
    "\n",
    "awards_suppliers = create_awards_suppliers(agg_input)\n",
    "\n",
    "\n",
    "#awards_suppliers.info()"
   ]
  },
  {
   "cell_type": "code",
   "execution_count": 13,
   "metadata": {},
   "outputs": [
    {
     "output_type": "execute_result",
     "data": {
      "text/plain": [
       "                ocid     id contracts/0/id  \\\n",
       "0   ocds-bxokds-IDM3   IDM3           IDM3   \n",
       "1  ocds-bxokds-IDM15  IDM15          IDM15   \n",
       "2  ocds-bxokds-IDM35  IDM35          IDM35   \n",
       "3  ocds-bxokds-IDM55  IDM55          IDM55   \n",
       "4  ocds-bxokds-IDM67  IDM67          IDM67   \n",
       "\n",
       "  contracts/0/implementation/transactions/0/id  \\\n",
       "0                                         IDM3   \n",
       "1                                        IDM15   \n",
       "2                                        IDM35   \n",
       "3                                        IDM55   \n",
       "4                                        IDM67   \n",
       "\n",
       "   contracts/0/implementation/transactions/0/value/amount  \n",
       "0                                               0.00       \n",
       "1                                               0.00       \n",
       "2                                             284.26       \n",
       "3                                               0.00       \n",
       "4                                               0.00       "
      ],
      "text/html": "<div>\n<style scoped>\n    .dataframe tbody tr th:only-of-type {\n        vertical-align: middle;\n    }\n\n    .dataframe tbody tr th {\n        vertical-align: top;\n    }\n\n    .dataframe thead th {\n        text-align: right;\n    }\n</style>\n<table border=\"1\" class=\"dataframe\">\n  <thead>\n    <tr style=\"text-align: right;\">\n      <th></th>\n      <th>ocid</th>\n      <th>id</th>\n      <th>contracts/0/id</th>\n      <th>contracts/0/implementation/transactions/0/id</th>\n      <th>contracts/0/implementation/transactions/0/value/amount</th>\n    </tr>\n  </thead>\n  <tbody>\n    <tr>\n      <th>0</th>\n      <td>ocds-bxokds-IDM3</td>\n      <td>IDM3</td>\n      <td>IDM3</td>\n      <td>IDM3</td>\n      <td>0.00</td>\n    </tr>\n    <tr>\n      <th>1</th>\n      <td>ocds-bxokds-IDM15</td>\n      <td>IDM15</td>\n      <td>IDM15</td>\n      <td>IDM15</td>\n      <td>0.00</td>\n    </tr>\n    <tr>\n      <th>2</th>\n      <td>ocds-bxokds-IDM35</td>\n      <td>IDM35</td>\n      <td>IDM35</td>\n      <td>IDM35</td>\n      <td>284.26</td>\n    </tr>\n    <tr>\n      <th>3</th>\n      <td>ocds-bxokds-IDM55</td>\n      <td>IDM55</td>\n      <td>IDM55</td>\n      <td>IDM55</td>\n      <td>0.00</td>\n    </tr>\n    <tr>\n      <th>4</th>\n      <td>ocds-bxokds-IDM67</td>\n      <td>IDM67</td>\n      <td>IDM67</td>\n      <td>IDM67</td>\n      <td>0.00</td>\n    </tr>\n  </tbody>\n</table>\n</div>"
     },
     "metadata": {},
     "execution_count": 13
    }
   ],
   "source": [
    "contr_imple_transactions = create_contr_imple_transactions(lot_input)\n",
    "\n",
    "\n",
    "contr_imple_transactions.head()"
   ]
  },
  {
   "cell_type": "code",
   "execution_count": 14,
   "metadata": {},
   "outputs": [
    {
     "output_type": "execute_result",
     "data": {
      "text/plain": [
       "                        ocid          id contracts/0/awardID contracts/0/id\n",
       "0           ocds-bxokds-IDM3        IDM3                IDM3           IDM3\n",
       "1          ocds-bxokds-IDM15       IDM15               IDM15          IDM15\n",
       "2          ocds-bxokds-IDM35       IDM35               IDM35          IDM35\n",
       "3          ocds-bxokds-IDM55       IDM55               IDM55          IDM55\n",
       "4          ocds-bxokds-IDM67       IDM67               IDM67          IDM67\n",
       "...                      ...         ...                 ...            ...\n",
       "1643  ocds-bxokds-ZF92952DB4  ZF92952DB4          ZF92952DB4     ZF92952DB4\n",
       "1644  ocds-bxokds-ZF92A9CC8C  ZF92A9CC8C          ZF92A9CC8C     ZF92A9CC8C\n",
       "1645  ocds-bxokds-ZF92B2D47E  ZF92B2D47E          ZF92B2D47E     ZF92B2D47E\n",
       "1646  ocds-bxokds-ZFA2857526  ZFA2857526          ZFA2857526     ZFA2857526\n",
       "1647  ocds-bxokds-ZFA286A227  ZFA286A227          ZFA286A227     ZFA286A227\n",
       "\n",
       "[1648 rows x 4 columns]"
      ],
      "text/html": "<div>\n<style scoped>\n    .dataframe tbody tr th:only-of-type {\n        vertical-align: middle;\n    }\n\n    .dataframe tbody tr th {\n        vertical-align: top;\n    }\n\n    .dataframe thead th {\n        text-align: right;\n    }\n</style>\n<table border=\"1\" class=\"dataframe\">\n  <thead>\n    <tr style=\"text-align: right;\">\n      <th></th>\n      <th>ocid</th>\n      <th>id</th>\n      <th>contracts/0/awardID</th>\n      <th>contracts/0/id</th>\n    </tr>\n  </thead>\n  <tbody>\n    <tr>\n      <th>0</th>\n      <td>ocds-bxokds-IDM3</td>\n      <td>IDM3</td>\n      <td>IDM3</td>\n      <td>IDM3</td>\n    </tr>\n    <tr>\n      <th>1</th>\n      <td>ocds-bxokds-IDM15</td>\n      <td>IDM15</td>\n      <td>IDM15</td>\n      <td>IDM15</td>\n    </tr>\n    <tr>\n      <th>2</th>\n      <td>ocds-bxokds-IDM35</td>\n      <td>IDM35</td>\n      <td>IDM35</td>\n      <td>IDM35</td>\n    </tr>\n    <tr>\n      <th>3</th>\n      <td>ocds-bxokds-IDM55</td>\n      <td>IDM55</td>\n      <td>IDM55</td>\n      <td>IDM55</td>\n    </tr>\n    <tr>\n      <th>4</th>\n      <td>ocds-bxokds-IDM67</td>\n      <td>IDM67</td>\n      <td>IDM67</td>\n      <td>IDM67</td>\n    </tr>\n    <tr>\n      <th>...</th>\n      <td>...</td>\n      <td>...</td>\n      <td>...</td>\n      <td>...</td>\n    </tr>\n    <tr>\n      <th>1643</th>\n      <td>ocds-bxokds-ZF92952DB4</td>\n      <td>ZF92952DB4</td>\n      <td>ZF92952DB4</td>\n      <td>ZF92952DB4</td>\n    </tr>\n    <tr>\n      <th>1644</th>\n      <td>ocds-bxokds-ZF92A9CC8C</td>\n      <td>ZF92A9CC8C</td>\n      <td>ZF92A9CC8C</td>\n      <td>ZF92A9CC8C</td>\n    </tr>\n    <tr>\n      <th>1645</th>\n      <td>ocds-bxokds-ZF92B2D47E</td>\n      <td>ZF92B2D47E</td>\n      <td>ZF92B2D47E</td>\n      <td>ZF92B2D47E</td>\n    </tr>\n    <tr>\n      <th>1646</th>\n      <td>ocds-bxokds-ZFA2857526</td>\n      <td>ZFA2857526</td>\n      <td>ZFA2857526</td>\n      <td>ZFA2857526</td>\n    </tr>\n    <tr>\n      <th>1647</th>\n      <td>ocds-bxokds-ZFA286A227</td>\n      <td>ZFA286A227</td>\n      <td>ZFA286A227</td>\n      <td>ZFA286A227</td>\n    </tr>\n  </tbody>\n</table>\n<p>1648 rows × 4 columns</p>\n</div>"
     },
     "metadata": {},
     "execution_count": 14
    }
   ],
   "source": [
    "\n",
    "\n",
    "contracts = create_contracts(agg_input)\n",
    "\n",
    "contracts"
   ]
  },
  {
   "cell_type": "code",
   "execution_count": 15,
   "metadata": {},
   "outputs": [],
   "source": [
    "write_out = os.path.join(tmp_dir, \"releases.csv\")\n",
    "releases.to_csv (write_out, index = None, header=True) \n",
    "\n",
    "\n",
    "write_out = os.path.join(tmp_dir, \"parties.csv\")\n",
    "parties.to_csv (write_out, index = None, header=True) \n",
    "\n",
    "\n",
    "write_out = os.path.join(tmp_dir, \"tende_tenderers.csv\")\n",
    "tende_tenderers.to_csv (write_out, index = None, header=True) \n",
    "\n",
    "\n",
    "write_out = os.path.join(tmp_dir, \"awards.csv\")\n",
    "awards.to_csv (write_out, index = None, header=True) \n",
    "\n",
    "\n",
    "write_out = os.path.join(tmp_dir, \"awards_suppliers.csv\")\n",
    "awards_suppliers.to_csv (write_out, index = None, header=True) \n",
    "\n",
    "\n",
    "write_out = os.path.join(tmp_dir, \"contr_imple_transactions.csv\")\n",
    "contr_imple_transactions.to_csv (write_out, index = None, header=True) \n",
    "\n",
    "write_out = os.path.join(tmp_dir, \"contracts.csv\")\n",
    "contracts.to_csv (write_out, index = None, header=True) "
   ]
  },
  {
   "cell_type": "code",
   "execution_count": 16,
   "metadata": {
    "tags": []
   },
   "outputs": [],
   "source": [
    "\n",
    "filename = 'ocds.json'\n",
    "filename_dir = out_dir + 'IT-CF-' + cod_pa + '/'\n",
    "out_path = os.path.join(filename_dir, filename)\n",
    "\n",
    "\n",
    "if not os.path.exists(filename_dir):\n",
    "    os.makedirs(filename_dir)\n",
    "\n",
    "\n",
    "schema_path = os.path.join(schema_dir, 'release-schema.json')\n",
    "base_path = os.path.join(work_dir, 'base.json')\n",
    "\n",
    "\n",
    "\n",
    "flattentool.unflatten(tmp_dir, \n",
    "                        output_name = out_path,\n",
    "                        input_format='csv',\n",
    "                        root_id='ocid',\n",
    "                        base_json = base_path, \n",
    "                        root_list_path='releases',\n",
    "                        schema = schema_path\n",
    "                        \n",
    "                      \n",
    "                        )"
   ]
  }
 ],
 "metadata": {
  "kernelspec": {
   "name": "Python 3.7.5 64-bit ('appaltipop': pipenv)",
   "display_name": "Python 3.7.5 64-bit ('appaltipop': pipenv)",
   "metadata": {
    "interpreter": {
     "hash": "df86ff45d81eff662f5106b34980ebce6945ced40acc041045e987ccb585ed53"
    }
   }
  },
  "language_info": {
   "codemirror_mode": {
    "name": "ipython",
    "version": 3
   },
   "file_extension": ".py",
   "mimetype": "text/x-python",
   "name": "python",
   "nbconvert_exporter": "python",
   "pygments_lexer": "ipython3",
   "version": "3.7.5-final"
  }
 },
 "nbformat": 4,
 "nbformat_minor": 2
}