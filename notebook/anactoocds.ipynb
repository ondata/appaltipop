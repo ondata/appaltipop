{
 "cells": [
  {
   "cell_type": "code",
   "execution_count": 31,
   "metadata": {},
   "outputs": [],
   "source": [
    "import flattentool\n",
    "import json\n",
    "import csv\n",
    "from anacocds_work import *\n"
   ]
  },
  {
   "cell_type": "code",
   "execution_count": 32,
   "metadata": {},
   "outputs": [
    {
     "output_type": "execute_result",
     "data": {
      "text/plain": [
       "3"
      ]
     },
     "metadata": {},
     "execution_count": 32
    }
   ],
   "source": [
    "csv.QUOTE_NONE"
   ]
  },
  {
   "cell_type": "code",
   "execution_count": 33,
   "metadata": {},
   "outputs": [],
   "source": [
    "data_dir ='../csv/2020/'\n",
    "tmp_dir = '../csv/tmp/'\n",
    "schema_dir = '../csv/'\n",
    "out_dir = '../data/'\n",
    "\n",
    "date = '2020-10-15T00:00:00Z'\n",
    "\n",
    "\n",
    "cod_pa = '00080270838'\n",
    "#cod_pa = '00097020598'\n",
    "#cod_pa = '00104330493'\n",
    "#cod_pa = '00124600685'\n",
    "#cod_pa = '00125680033'\n",
    "#cod_pa = '00137020871'\n",
    "#cod_pa = '00147990923'\n",
    "#cod_pa = '00162210348'\n",
    "#cod_pa = '00163570542'\n",
    "#cod_pa = '00175660554'\n",
    "#cod_pa = '00215150236'\n",
    "#cod_pa = '00221940364'\n",
    "#cod_pa = '00229080338'\n",
    "#cod_pa = '00239740905'\n",
    "#cod_pa = '00297110389'\n",
    "#cod_pa = '00304260409'\n",
    "#cod_pa = '00339370272'\n",
    "#cod_pa = '00351040423'\n",
    "#cod_pa = '00354730392'\n",
    "#cod_pa = '00355870221'\n",
    "#cod_pa = '00389240219'\n",
    "#cod_pa = '00514490010'\n",
    "#cod_pa = '00606620409'\n",
    "#cod_pa = '00644060287'\n",
    "#cod_pa = '00856930102'\n",
    "#cod_pa = '01199250158'\n",
    "#cod_pa = '01232710374'\n",
    "#cod_pa = '01307110484'\n",
    "#cod_pa = '02030880153' \n",
    "#cod_pa = '80000330656'\n",
    "#cod_pa = '80015010723'\n",
    "#cod_pa = '80016350821'\n",
    "#cod_pa = '80025760820'\n",
    "#cod_pa = '80049220637'\n",
    "#cod_pa = '81001210723'\n",
    "#cod_pa = '84006890481'\n",
    "\n",
    "\n",
    "work_dir = data_dir + cod_pa\n",
    "\n"
   ]
  },
  {
   "cell_type": "code",
   "execution_count": 34,
   "metadata": {
    "scrolled": true
   },
   "outputs": [
    {
     "output_type": "execute_result",
     "data": {
      "text/plain": [
       "   n         cig      codiceFiscale  \\\n",
       "0  1  Z1A28A23B2  IT-CF-02751560836   \n",
       "1  2  80473134C4  IT-CF-02761050836   \n",
       "2  3  Z572422694  IT-CF-01470090836   \n",
       "3  4  7692761B31  IT-CF-01427991003   \n",
       "4  5  Z8B2A793A4  IT-CF-02501390831   \n",
       "\n",
       "                                      ragioneSociale ruolo  \\\n",
       "0                                      QUAGLIATA SRL   NaN   \n",
       "1                                        COGEDIS SRL   NaN   \n",
       "2                               ANTONINO CHILLE' SRL   NaN   \n",
       "3                                  SINTEL ITALIA SPA   NaN   \n",
       "4  ASS. CULTURALE TURISTICA SOCIALE MUSICALEBANDA...   NaN   \n",
       "\n",
       "  identificativoFiscaleEstero  aggrgrno lottoID                    ocid  \n",
       "0                         NAN       NaN    idm3  ocds-bxokds-Z1A28A23B2  \n",
       "1                         NAN       NaN   idm28  ocds-bxokds-80473134C4  \n",
       "2                         NAN       NaN   idm88  ocds-bxokds-Z572422694  \n",
       "3                         NAN       NaN  idm118  ocds-bxokds-7692761B31  \n",
       "4                         NAN       NaN  idm136  ocds-bxokds-Z8B2A793A4  "
      ],
      "text/html": "<div>\n<style scoped>\n    .dataframe tbody tr th:only-of-type {\n        vertical-align: middle;\n    }\n\n    .dataframe tbody tr th {\n        vertical-align: top;\n    }\n\n    .dataframe thead th {\n        text-align: right;\n    }\n</style>\n<table border=\"1\" class=\"dataframe\">\n  <thead>\n    <tr style=\"text-align: right;\">\n      <th></th>\n      <th>n</th>\n      <th>cig</th>\n      <th>codiceFiscale</th>\n      <th>ragioneSociale</th>\n      <th>ruolo</th>\n      <th>identificativoFiscaleEstero</th>\n      <th>aggrgrno</th>\n      <th>lottoID</th>\n      <th>ocid</th>\n    </tr>\n  </thead>\n  <tbody>\n    <tr>\n      <th>0</th>\n      <td>1</td>\n      <td>Z1A28A23B2</td>\n      <td>IT-CF-02751560836</td>\n      <td>QUAGLIATA SRL</td>\n      <td>NaN</td>\n      <td>NAN</td>\n      <td>NaN</td>\n      <td>idm3</td>\n      <td>ocds-bxokds-Z1A28A23B2</td>\n    </tr>\n    <tr>\n      <th>1</th>\n      <td>2</td>\n      <td>80473134C4</td>\n      <td>IT-CF-02761050836</td>\n      <td>COGEDIS SRL</td>\n      <td>NaN</td>\n      <td>NAN</td>\n      <td>NaN</td>\n      <td>idm28</td>\n      <td>ocds-bxokds-80473134C4</td>\n    </tr>\n    <tr>\n      <th>2</th>\n      <td>3</td>\n      <td>Z572422694</td>\n      <td>IT-CF-01470090836</td>\n      <td>ANTONINO CHILLE' SRL</td>\n      <td>NaN</td>\n      <td>NAN</td>\n      <td>NaN</td>\n      <td>idm88</td>\n      <td>ocds-bxokds-Z572422694</td>\n    </tr>\n    <tr>\n      <th>3</th>\n      <td>4</td>\n      <td>7692761B31</td>\n      <td>IT-CF-01427991003</td>\n      <td>SINTEL ITALIA SPA</td>\n      <td>NaN</td>\n      <td>NAN</td>\n      <td>NaN</td>\n      <td>idm118</td>\n      <td>ocds-bxokds-7692761B31</td>\n    </tr>\n    <tr>\n      <th>4</th>\n      <td>5</td>\n      <td>Z8B2A793A4</td>\n      <td>IT-CF-02501390831</td>\n      <td>ASS. CULTURALE TURISTICA SOCIALE MUSICALEBANDA...</td>\n      <td>NaN</td>\n      <td>NAN</td>\n      <td>NaN</td>\n      <td>idm136</td>\n      <td>ocds-bxokds-Z8B2A793A4</td>\n    </tr>\n  </tbody>\n</table>\n</div>"
     },
     "metadata": {},
     "execution_count": 34
    }
   ],
   "source": [
    "agg_input = read_aggiudicatari(work_dir, cod_pa)\n",
    "\n",
    "agg_input.head()"
   ]
  },
  {
   "cell_type": "code",
   "execution_count": 35,
   "metadata": {},
   "outputs": [
    {
     "output_type": "execute_result",
     "data": {
      "text/plain": [
       "   n         cig      codiceFiscale            ragioneSociale ruolo  \\\n",
       "0  1  Z1A28A23B2  IT-CF-02751560836             QUAGLIATA SRL   NaN   \n",
       "1  1  Z1A28A23B2       IT-CF-000000        CARTOLERIA SAVASTA   NaN   \n",
       "2  1  Z1A28A23B2  IT-CF-03259040834  CARTOLERIA CENTRO OFFICE   NaN   \n",
       "3  2  80473134C4  IT-CF-02122600832    URANIA COSTRUZIONI SRL   NaN   \n",
       "4  2  80473134C4  IT-CF-03049590833       MESSINA NOLEGGI SRL   NaN   \n",
       "\n",
       "  identificativoFiscaleEstero  partrgrno lottoID                    ocid  \n",
       "0                         NAN        NaN    idm3  ocds-bxokds-Z1A28A23B2  \n",
       "1                         NAN        NaN    idm3  ocds-bxokds-Z1A28A23B2  \n",
       "2                         NAN        NaN    idm3  ocds-bxokds-Z1A28A23B2  \n",
       "3                         NAN        NaN   idm28  ocds-bxokds-80473134C4  \n",
       "4                         NAN        NaN   idm28  ocds-bxokds-80473134C4  "
      ],
      "text/html": "<div>\n<style scoped>\n    .dataframe tbody tr th:only-of-type {\n        vertical-align: middle;\n    }\n\n    .dataframe tbody tr th {\n        vertical-align: top;\n    }\n\n    .dataframe thead th {\n        text-align: right;\n    }\n</style>\n<table border=\"1\" class=\"dataframe\">\n  <thead>\n    <tr style=\"text-align: right;\">\n      <th></th>\n      <th>n</th>\n      <th>cig</th>\n      <th>codiceFiscale</th>\n      <th>ragioneSociale</th>\n      <th>ruolo</th>\n      <th>identificativoFiscaleEstero</th>\n      <th>partrgrno</th>\n      <th>lottoID</th>\n      <th>ocid</th>\n    </tr>\n  </thead>\n  <tbody>\n    <tr>\n      <th>0</th>\n      <td>1</td>\n      <td>Z1A28A23B2</td>\n      <td>IT-CF-02751560836</td>\n      <td>QUAGLIATA SRL</td>\n      <td>NaN</td>\n      <td>NAN</td>\n      <td>NaN</td>\n      <td>idm3</td>\n      <td>ocds-bxokds-Z1A28A23B2</td>\n    </tr>\n    <tr>\n      <th>1</th>\n      <td>1</td>\n      <td>Z1A28A23B2</td>\n      <td>IT-CF-000000</td>\n      <td>CARTOLERIA SAVASTA</td>\n      <td>NaN</td>\n      <td>NAN</td>\n      <td>NaN</td>\n      <td>idm3</td>\n      <td>ocds-bxokds-Z1A28A23B2</td>\n    </tr>\n    <tr>\n      <th>2</th>\n      <td>1</td>\n      <td>Z1A28A23B2</td>\n      <td>IT-CF-03259040834</td>\n      <td>CARTOLERIA CENTRO OFFICE</td>\n      <td>NaN</td>\n      <td>NAN</td>\n      <td>NaN</td>\n      <td>idm3</td>\n      <td>ocds-bxokds-Z1A28A23B2</td>\n    </tr>\n    <tr>\n      <th>3</th>\n      <td>2</td>\n      <td>80473134C4</td>\n      <td>IT-CF-02122600832</td>\n      <td>URANIA COSTRUZIONI SRL</td>\n      <td>NaN</td>\n      <td>NAN</td>\n      <td>NaN</td>\n      <td>idm28</td>\n      <td>ocds-bxokds-80473134C4</td>\n    </tr>\n    <tr>\n      <th>4</th>\n      <td>2</td>\n      <td>80473134C4</td>\n      <td>IT-CF-03049590833</td>\n      <td>MESSINA NOLEGGI SRL</td>\n      <td>NaN</td>\n      <td>NAN</td>\n      <td>NaN</td>\n      <td>idm28</td>\n      <td>ocds-bxokds-80473134C4</td>\n    </tr>\n  </tbody>\n</table>\n</div>"
     },
     "metadata": {},
     "execution_count": 35
    }
   ],
   "source": [
    "par_input = read_partecipanti(work_dir, cod_pa)\n",
    "\n",
    "par_input.head()\n"
   ]
  },
  {
   "cell_type": "code",
   "execution_count": 36,
   "metadata": {},
   "outputs": [
    {
     "output_type": "execute_result",
     "data": {
      "text/plain": [
       "   n         cig strutturaProponente:codiceFiscaleProp  \\\n",
       "0  1  Z1A28A23B2                     IT-CF-00080270838   \n",
       "1  2  80473134C4                     IT-CF-00080270838   \n",
       "2  3  Z572422694                     IT-CF-00080270838   \n",
       "3  4  7692761B31                     IT-CF-00080270838   \n",
       "4  5  Z8B2A793A4                     IT-CF-00080270838   \n",
       "\n",
       "                   strutturaProponente:denominazione  importoAggiudicazione  \\\n",
       "0  DIPARTIMENTO POLITICHE CULTURALI ED EDUCATIVE ...                1955.22   \n",
       "1  DIPARTIMENTO PROTEZIONE CIVILE E DIFESA DEL SUOLO              415979.20   \n",
       "2              Dipartimento Politiche del Territorio               14819.40   \n",
       "3                    DIPARTIMENTO POLIZIA MUNICIPALE                1500.00   \n",
       "4                SERVIZI ALLA PERSONA E ALLE IMPRESE                1200.00   \n",
       "\n",
       "   importoSommeLiquidate                                            oggetto  \\\n",
       "0                1955.22     SCUOLA ANTICHI MESTIERI - ACQUISTO CANCELLERIA   \n",
       "1                   0.00  Interventi preventivi di mitigazione dei risch...   \n",
       "2                   0.00  fornitura e posa in opera di targhe topo-nomas...   \n",
       "3                   0.00  CORSO DI FORMAZIONE SULL'UTILIZZO DEL SISTEMA ...   \n",
       "4                1200.00  Affidamento in occasione della Festa delle For...   \n",
       "\n",
       "                                    sceltaContraente  \\\n",
       "0                             23-AFFIDAMENTO DIRETTO   \n",
       "1  04-PROCEDURA NEGOZIATA SENZA PREVIA PUBBLICAZI...   \n",
       "2  04-PROCEDURA NEGOZIATA SENZA PREVIA PUBBLICAZI...   \n",
       "3                             23-AFFIDAMENTO DIRETTO   \n",
       "4                             23-AFFIDAMENTO DIRETTO   \n",
       "\n",
       "  tempiCompletamento:dataInizio tempiCompletamento:dataUltimazione lottoID  \\\n",
       "0          2019-06-06T09:30:00Z                                NaN    idm3   \n",
       "1                           NaN                                NaN   idm28   \n",
       "2                           NaN                                NaN   idm88   \n",
       "3                           NaN                                NaN  idm118   \n",
       "4          2019-11-04T09:30:00Z               2019-11-04T09:30:00Z  idm136   \n",
       "\n",
       "                     ocid  \n",
       "0  ocds-bxokds-Z1A28A23B2  \n",
       "1  ocds-bxokds-80473134C4  \n",
       "2  ocds-bxokds-Z572422694  \n",
       "3  ocds-bxokds-7692761B31  \n",
       "4  ocds-bxokds-Z8B2A793A4  "
      ],
      "text/html": "<div>\n<style scoped>\n    .dataframe tbody tr th:only-of-type {\n        vertical-align: middle;\n    }\n\n    .dataframe tbody tr th {\n        vertical-align: top;\n    }\n\n    .dataframe thead th {\n        text-align: right;\n    }\n</style>\n<table border=\"1\" class=\"dataframe\">\n  <thead>\n    <tr style=\"text-align: right;\">\n      <th></th>\n      <th>n</th>\n      <th>cig</th>\n      <th>strutturaProponente:codiceFiscaleProp</th>\n      <th>strutturaProponente:denominazione</th>\n      <th>importoAggiudicazione</th>\n      <th>importoSommeLiquidate</th>\n      <th>oggetto</th>\n      <th>sceltaContraente</th>\n      <th>tempiCompletamento:dataInizio</th>\n      <th>tempiCompletamento:dataUltimazione</th>\n      <th>lottoID</th>\n      <th>ocid</th>\n    </tr>\n  </thead>\n  <tbody>\n    <tr>\n      <th>0</th>\n      <td>1</td>\n      <td>Z1A28A23B2</td>\n      <td>IT-CF-00080270838</td>\n      <td>DIPARTIMENTO POLITICHE CULTURALI ED EDUCATIVE ...</td>\n      <td>1955.22</td>\n      <td>1955.22</td>\n      <td>SCUOLA ANTICHI MESTIERI - ACQUISTO CANCELLERIA</td>\n      <td>23-AFFIDAMENTO DIRETTO</td>\n      <td>2019-06-06T09:30:00Z</td>\n      <td>NaN</td>\n      <td>idm3</td>\n      <td>ocds-bxokds-Z1A28A23B2</td>\n    </tr>\n    <tr>\n      <th>1</th>\n      <td>2</td>\n      <td>80473134C4</td>\n      <td>IT-CF-00080270838</td>\n      <td>DIPARTIMENTO PROTEZIONE CIVILE E DIFESA DEL SUOLO</td>\n      <td>415979.20</td>\n      <td>0.00</td>\n      <td>Interventi preventivi di mitigazione dei risch...</td>\n      <td>04-PROCEDURA NEGOZIATA SENZA PREVIA PUBBLICAZI...</td>\n      <td>NaN</td>\n      <td>NaN</td>\n      <td>idm28</td>\n      <td>ocds-bxokds-80473134C4</td>\n    </tr>\n    <tr>\n      <th>2</th>\n      <td>3</td>\n      <td>Z572422694</td>\n      <td>IT-CF-00080270838</td>\n      <td>Dipartimento Politiche del Territorio</td>\n      <td>14819.40</td>\n      <td>0.00</td>\n      <td>fornitura e posa in opera di targhe topo-nomas...</td>\n      <td>04-PROCEDURA NEGOZIATA SENZA PREVIA PUBBLICAZI...</td>\n      <td>NaN</td>\n      <td>NaN</td>\n      <td>idm88</td>\n      <td>ocds-bxokds-Z572422694</td>\n    </tr>\n    <tr>\n      <th>3</th>\n      <td>4</td>\n      <td>7692761B31</td>\n      <td>IT-CF-00080270838</td>\n      <td>DIPARTIMENTO POLIZIA MUNICIPALE</td>\n      <td>1500.00</td>\n      <td>0.00</td>\n      <td>CORSO DI FORMAZIONE SULL'UTILIZZO DEL SISTEMA ...</td>\n      <td>23-AFFIDAMENTO DIRETTO</td>\n      <td>NaN</td>\n      <td>NaN</td>\n      <td>idm118</td>\n      <td>ocds-bxokds-7692761B31</td>\n    </tr>\n    <tr>\n      <th>4</th>\n      <td>5</td>\n      <td>Z8B2A793A4</td>\n      <td>IT-CF-00080270838</td>\n      <td>SERVIZI ALLA PERSONA E ALLE IMPRESE</td>\n      <td>1200.00</td>\n      <td>1200.00</td>\n      <td>Affidamento in occasione della Festa delle For...</td>\n      <td>23-AFFIDAMENTO DIRETTO</td>\n      <td>2019-11-04T09:30:00Z</td>\n      <td>2019-11-04T09:30:00Z</td>\n      <td>idm136</td>\n      <td>ocds-bxokds-Z8B2A793A4</td>\n    </tr>\n  </tbody>\n</table>\n</div>"
     },
     "metadata": {},
     "execution_count": 36
    }
   ],
   "source": [
    "\n",
    "lot_input = read_lotti(work_dir, cod_pa)\n",
    "\n",
    "lot_input.head()"
   ]
  },
  {
   "cell_type": "code",
   "execution_count": 37,
   "metadata": {},
   "outputs": [
    {
     "output_type": "execute_result",
     "data": {
      "text/plain": [
       "                     ocid                                           id  \\\n",
       "0  ocds-bxokds-Z1A28A23B2  ocds-bxokds-Z1A28A23B2-2020-10-15T00:00:00Z   \n",
       "1  ocds-bxokds-80473134C4  ocds-bxokds-80473134C4-2020-10-15T00:00:00Z   \n",
       "2  ocds-bxokds-Z572422694  ocds-bxokds-Z572422694-2020-10-15T00:00:00Z   \n",
       "3  ocds-bxokds-7692761B31  ocds-bxokds-7692761B31-2020-10-15T00:00:00Z   \n",
       "4  ocds-bxokds-Z8B2A793A4  ocds-bxokds-Z8B2A793A4-2020-10-15T00:00:00Z   \n",
       "\n",
       "                   date                                      tag  \\\n",
       "0  2020-10-15T00:00:00Z  tender; award; contract; implementation   \n",
       "1  2020-10-15T00:00:00Z  tender; award; contract; implementation   \n",
       "2  2020-10-15T00:00:00Z  tender; award; contract; implementation   \n",
       "3  2020-10-15T00:00:00Z  tender; award; contract; implementation   \n",
       "4  2020-10-15T00:00:00Z  tender; award; contract; implementation   \n",
       "\n",
       "  initiationType                                         buyer/name  \\\n",
       "0         tender  DIPARTIMENTO POLITICHE CULTURALI ED EDUCATIVE ...   \n",
       "1         tender  DIPARTIMENTO PROTEZIONE CIVILE E DIFESA DEL SUOLO   \n",
       "2         tender              Dipartimento Politiche del Territorio   \n",
       "3         tender                    DIPARTIMENTO POLIZIA MUNICIPALE   \n",
       "4         tender                SERVIZI ALLA PERSONA E ALLE IMPRESE   \n",
       "\n",
       "            buyer/id   tender/id  \\\n",
       "0  IT-CF-00080270838  Z1A28A23B2   \n",
       "1  IT-CF-00080270838  80473134C4   \n",
       "2  IT-CF-00080270838  Z572422694   \n",
       "3  IT-CF-00080270838  7692761B31   \n",
       "4  IT-CF-00080270838  Z8B2A793A4   \n",
       "\n",
       "                                        tender/title  \\\n",
       "0     SCUOLA ANTICHI MESTIERI - ACQUISTO CANCELLERIA   \n",
       "1  Interventi preventivi di mitigazione dei risch...   \n",
       "2  fornitura e posa in opera di targhe topo-nomas...   \n",
       "3  CORSO DI FORMAZIONE SULL'UTILIZZO DEL SISTEMA ...   \n",
       "4  Affidamento in occasione della Festa delle For...   \n",
       "\n",
       "                         tender/procuringEntity/name  \\\n",
       "0  DIPARTIMENTO POLITICHE CULTURALI ED EDUCATIVE ...   \n",
       "1  DIPARTIMENTO PROTEZIONE CIVILE E DIFESA DEL SUOLO   \n",
       "2              Dipartimento Politiche del Territorio   \n",
       "3                    DIPARTIMENTO POLIZIA MUNICIPALE   \n",
       "4                SERVIZI ALLA PERSONA E ALLE IMPRESE   \n",
       "\n",
       "  tender/procuringEntity/id tender/items/id  \\\n",
       "0         IT-CF-00080270838             NaN   \n",
       "1         IT-CF-00080270838             NaN   \n",
       "2         IT-CF-00080270838             NaN   \n",
       "3         IT-CF-00080270838             NaN   \n",
       "4         IT-CF-00080270838             NaN   \n",
       "\n",
       "                     tender/procurementMethodDetails  \\\n",
       "0                             23-AFFIDAMENTO DIRETTO   \n",
       "1  04-PROCEDURA NEGOZIATA SENZA PREVIA PUBBLICAZI...   \n",
       "2  04-PROCEDURA NEGOZIATA SENZA PREVIA PUBBLICAZI...   \n",
       "3                             23-AFFIDAMENTO DIRETTO   \n",
       "4                             23-AFFIDAMENTO DIRETTO   \n",
       "\n",
       "  tender/contractPeriod/startDate tender/contractPeriod/endDate  \n",
       "0            2019-06-06T09:30:00Z                           NaN  \n",
       "1                             NaN                           NaN  \n",
       "2                             NaN                           NaN  \n",
       "3                             NaN                           NaN  \n",
       "4            2019-11-04T09:30:00Z          2019-11-04T09:30:00Z  "
      ],
      "text/html": "<div>\n<style scoped>\n    .dataframe tbody tr th:only-of-type {\n        vertical-align: middle;\n    }\n\n    .dataframe tbody tr th {\n        vertical-align: top;\n    }\n\n    .dataframe thead th {\n        text-align: right;\n    }\n</style>\n<table border=\"1\" class=\"dataframe\">\n  <thead>\n    <tr style=\"text-align: right;\">\n      <th></th>\n      <th>ocid</th>\n      <th>id</th>\n      <th>date</th>\n      <th>tag</th>\n      <th>initiationType</th>\n      <th>buyer/name</th>\n      <th>buyer/id</th>\n      <th>tender/id</th>\n      <th>tender/title</th>\n      <th>tender/procuringEntity/name</th>\n      <th>tender/procuringEntity/id</th>\n      <th>tender/items/id</th>\n      <th>tender/procurementMethodDetails</th>\n      <th>tender/contractPeriod/startDate</th>\n      <th>tender/contractPeriod/endDate</th>\n    </tr>\n  </thead>\n  <tbody>\n    <tr>\n      <th>0</th>\n      <td>ocds-bxokds-Z1A28A23B2</td>\n      <td>ocds-bxokds-Z1A28A23B2-2020-10-15T00:00:00Z</td>\n      <td>2020-10-15T00:00:00Z</td>\n      <td>tender; award; contract; implementation</td>\n      <td>tender</td>\n      <td>DIPARTIMENTO POLITICHE CULTURALI ED EDUCATIVE ...</td>\n      <td>IT-CF-00080270838</td>\n      <td>Z1A28A23B2</td>\n      <td>SCUOLA ANTICHI MESTIERI - ACQUISTO CANCELLERIA</td>\n      <td>DIPARTIMENTO POLITICHE CULTURALI ED EDUCATIVE ...</td>\n      <td>IT-CF-00080270838</td>\n      <td>NaN</td>\n      <td>23-AFFIDAMENTO DIRETTO</td>\n      <td>2019-06-06T09:30:00Z</td>\n      <td>NaN</td>\n    </tr>\n    <tr>\n      <th>1</th>\n      <td>ocds-bxokds-80473134C4</td>\n      <td>ocds-bxokds-80473134C4-2020-10-15T00:00:00Z</td>\n      <td>2020-10-15T00:00:00Z</td>\n      <td>tender; award; contract; implementation</td>\n      <td>tender</td>\n      <td>DIPARTIMENTO PROTEZIONE CIVILE E DIFESA DEL SUOLO</td>\n      <td>IT-CF-00080270838</td>\n      <td>80473134C4</td>\n      <td>Interventi preventivi di mitigazione dei risch...</td>\n      <td>DIPARTIMENTO PROTEZIONE CIVILE E DIFESA DEL SUOLO</td>\n      <td>IT-CF-00080270838</td>\n      <td>NaN</td>\n      <td>04-PROCEDURA NEGOZIATA SENZA PREVIA PUBBLICAZI...</td>\n      <td>NaN</td>\n      <td>NaN</td>\n    </tr>\n    <tr>\n      <th>2</th>\n      <td>ocds-bxokds-Z572422694</td>\n      <td>ocds-bxokds-Z572422694-2020-10-15T00:00:00Z</td>\n      <td>2020-10-15T00:00:00Z</td>\n      <td>tender; award; contract; implementation</td>\n      <td>tender</td>\n      <td>Dipartimento Politiche del Territorio</td>\n      <td>IT-CF-00080270838</td>\n      <td>Z572422694</td>\n      <td>fornitura e posa in opera di targhe topo-nomas...</td>\n      <td>Dipartimento Politiche del Territorio</td>\n      <td>IT-CF-00080270838</td>\n      <td>NaN</td>\n      <td>04-PROCEDURA NEGOZIATA SENZA PREVIA PUBBLICAZI...</td>\n      <td>NaN</td>\n      <td>NaN</td>\n    </tr>\n    <tr>\n      <th>3</th>\n      <td>ocds-bxokds-7692761B31</td>\n      <td>ocds-bxokds-7692761B31-2020-10-15T00:00:00Z</td>\n      <td>2020-10-15T00:00:00Z</td>\n      <td>tender; award; contract; implementation</td>\n      <td>tender</td>\n      <td>DIPARTIMENTO POLIZIA MUNICIPALE</td>\n      <td>IT-CF-00080270838</td>\n      <td>7692761B31</td>\n      <td>CORSO DI FORMAZIONE SULL'UTILIZZO DEL SISTEMA ...</td>\n      <td>DIPARTIMENTO POLIZIA MUNICIPALE</td>\n      <td>IT-CF-00080270838</td>\n      <td>NaN</td>\n      <td>23-AFFIDAMENTO DIRETTO</td>\n      <td>NaN</td>\n      <td>NaN</td>\n    </tr>\n    <tr>\n      <th>4</th>\n      <td>ocds-bxokds-Z8B2A793A4</td>\n      <td>ocds-bxokds-Z8B2A793A4-2020-10-15T00:00:00Z</td>\n      <td>2020-10-15T00:00:00Z</td>\n      <td>tender; award; contract; implementation</td>\n      <td>tender</td>\n      <td>SERVIZI ALLA PERSONA E ALLE IMPRESE</td>\n      <td>IT-CF-00080270838</td>\n      <td>Z8B2A793A4</td>\n      <td>Affidamento in occasione della Festa delle For...</td>\n      <td>SERVIZI ALLA PERSONA E ALLE IMPRESE</td>\n      <td>IT-CF-00080270838</td>\n      <td>NaN</td>\n      <td>23-AFFIDAMENTO DIRETTO</td>\n      <td>2019-11-04T09:30:00Z</td>\n      <td>2019-11-04T09:30:00Z</td>\n    </tr>\n  </tbody>\n</table>\n</div>"
     },
     "metadata": {},
     "execution_count": 37
    }
   ],
   "source": [
    "\n",
    "\n",
    "\n",
    "releases = create_releases(lot_input, date)\n",
    "\n",
    "releases.head()"
   ]
  },
  {
   "cell_type": "code",
   "execution_count": 38,
   "metadata": {},
   "outputs": [
    {
     "output_type": "execute_result",
     "data": {
      "text/plain": [
       "                         ocid                                           id  \\\n",
       "index                                                                        \n",
       "641    ocds-bxokds-Z7225AEAB4  ocds-bxokds-Z7225AEAB4-2020-10-15T00:00:00Z   \n",
       "642    ocds-bxokds-ZB32558FE1  ocds-bxokds-ZB32558FE1-2020-10-15T00:00:00Z   \n",
       "643    ocds-bxokds-Z9C25AEA42  ocds-bxokds-Z9C25AEA42-2020-10-15T00:00:00Z   \n",
       "644    ocds-bxokds-Z2C2674D4D  ocds-bxokds-Z2C2674D4D-2020-10-15T00:00:00Z   \n",
       "645    ocds-bxokds-ZC1213E3A2  ocds-bxokds-ZC1213E3A2-2020-10-15T00:00:00Z   \n",
       "\n",
       "                                 parties/0/name       parties/0/id  \\\n",
       "index                                                                \n",
       "641             DIPARTIMENTO SERVIZI FINANZIARI  IT-CF-00080270838   \n",
       "642             DIPARTIMENTO SERVIZI FINANZIARI  IT-CF-00080270838   \n",
       "643             DIPARTIMENTO SERVIZI FINANZIARI  IT-CF-00080270838   \n",
       "644    DIPARTIMENTO MOBILITÀ URBANA - VIABILITÀ  IT-CF-00080270838   \n",
       "645               Dipartimento Edilizia Privata  IT-CF-00080270838   \n",
       "\n",
       "              parties/0/roles parties/0/memberOf/id parties/0/memberOf/name  \n",
       "index                                                                        \n",
       "641    buyer; procuringEntity                   NaN                     NaN  \n",
       "642    buyer; procuringEntity                   NaN                     NaN  \n",
       "643    buyer; procuringEntity                   NaN                     NaN  \n",
       "644    buyer; procuringEntity                   NaN                     NaN  \n",
       "645    buyer; procuringEntity                   NaN                     NaN  "
      ],
      "text/html": "<div>\n<style scoped>\n    .dataframe tbody tr th:only-of-type {\n        vertical-align: middle;\n    }\n\n    .dataframe tbody tr th {\n        vertical-align: top;\n    }\n\n    .dataframe thead th {\n        text-align: right;\n    }\n</style>\n<table border=\"1\" class=\"dataframe\">\n  <thead>\n    <tr style=\"text-align: right;\">\n      <th></th>\n      <th>ocid</th>\n      <th>id</th>\n      <th>parties/0/name</th>\n      <th>parties/0/id</th>\n      <th>parties/0/roles</th>\n      <th>parties/0/memberOf/id</th>\n      <th>parties/0/memberOf/name</th>\n    </tr>\n    <tr>\n      <th>index</th>\n      <th></th>\n      <th></th>\n      <th></th>\n      <th></th>\n      <th></th>\n      <th></th>\n      <th></th>\n    </tr>\n  </thead>\n  <tbody>\n    <tr>\n      <th>641</th>\n      <td>ocds-bxokds-Z7225AEAB4</td>\n      <td>ocds-bxokds-Z7225AEAB4-2020-10-15T00:00:00Z</td>\n      <td>DIPARTIMENTO SERVIZI FINANZIARI</td>\n      <td>IT-CF-00080270838</td>\n      <td>buyer; procuringEntity</td>\n      <td>NaN</td>\n      <td>NaN</td>\n    </tr>\n    <tr>\n      <th>642</th>\n      <td>ocds-bxokds-ZB32558FE1</td>\n      <td>ocds-bxokds-ZB32558FE1-2020-10-15T00:00:00Z</td>\n      <td>DIPARTIMENTO SERVIZI FINANZIARI</td>\n      <td>IT-CF-00080270838</td>\n      <td>buyer; procuringEntity</td>\n      <td>NaN</td>\n      <td>NaN</td>\n    </tr>\n    <tr>\n      <th>643</th>\n      <td>ocds-bxokds-Z9C25AEA42</td>\n      <td>ocds-bxokds-Z9C25AEA42-2020-10-15T00:00:00Z</td>\n      <td>DIPARTIMENTO SERVIZI FINANZIARI</td>\n      <td>IT-CF-00080270838</td>\n      <td>buyer; procuringEntity</td>\n      <td>NaN</td>\n      <td>NaN</td>\n    </tr>\n    <tr>\n      <th>644</th>\n      <td>ocds-bxokds-Z2C2674D4D</td>\n      <td>ocds-bxokds-Z2C2674D4D-2020-10-15T00:00:00Z</td>\n      <td>DIPARTIMENTO MOBILITÀ URBANA - VIABILITÀ</td>\n      <td>IT-CF-00080270838</td>\n      <td>buyer; procuringEntity</td>\n      <td>NaN</td>\n      <td>NaN</td>\n    </tr>\n    <tr>\n      <th>645</th>\n      <td>ocds-bxokds-ZC1213E3A2</td>\n      <td>ocds-bxokds-ZC1213E3A2-2020-10-15T00:00:00Z</td>\n      <td>Dipartimento Edilizia Privata</td>\n      <td>IT-CF-00080270838</td>\n      <td>buyer; procuringEntity</td>\n      <td>NaN</td>\n      <td>NaN</td>\n    </tr>\n  </tbody>\n</table>\n</div>"
     },
     "metadata": {},
     "execution_count": 38
    }
   ],
   "source": [
    "\n",
    "parties = create_parties(par_input, agg_input, lot_input, date)\n",
    "\n",
    "parties.tail()"
   ]
  },
  {
   "cell_type": "code",
   "execution_count": 39,
   "metadata": {},
   "outputs": [
    {
     "output_type": "execute_result",
     "data": {
      "text/plain": [
       "                     ocid                                           id  \\\n",
       "0  ocds-bxokds-Z1A28A23B2  ocds-bxokds-Z1A28A23B2-2020-10-15T00:00:00Z   \n",
       "1  ocds-bxokds-Z1A28A23B2  ocds-bxokds-Z1A28A23B2-2020-10-15T00:00:00Z   \n",
       "2  ocds-bxokds-Z1A28A23B2  ocds-bxokds-Z1A28A23B2-2020-10-15T00:00:00Z   \n",
       "3  ocds-bxokds-80473134C4  ocds-bxokds-80473134C4-2020-10-15T00:00:00Z   \n",
       "4  ocds-bxokds-80473134C4  ocds-bxokds-80473134C4-2020-10-15T00:00:00Z   \n",
       "\n",
       "    tender/id   tender/tenderers/0/name tender/tenderers/0/id  \n",
       "0  Z1A28A23B2             QUAGLIATA SRL     IT-CF-02751560836  \n",
       "1  Z1A28A23B2        CARTOLERIA SAVASTA          IT-CF-000000  \n",
       "2  Z1A28A23B2  CARTOLERIA CENTRO OFFICE     IT-CF-03259040834  \n",
       "3  80473134C4    URANIA COSTRUZIONI SRL     IT-CF-02122600832  \n",
       "4  80473134C4       MESSINA NOLEGGI SRL     IT-CF-03049590833  "
      ],
      "text/html": "<div>\n<style scoped>\n    .dataframe tbody tr th:only-of-type {\n        vertical-align: middle;\n    }\n\n    .dataframe tbody tr th {\n        vertical-align: top;\n    }\n\n    .dataframe thead th {\n        text-align: right;\n    }\n</style>\n<table border=\"1\" class=\"dataframe\">\n  <thead>\n    <tr style=\"text-align: right;\">\n      <th></th>\n      <th>ocid</th>\n      <th>id</th>\n      <th>tender/id</th>\n      <th>tender/tenderers/0/name</th>\n      <th>tender/tenderers/0/id</th>\n    </tr>\n  </thead>\n  <tbody>\n    <tr>\n      <th>0</th>\n      <td>ocds-bxokds-Z1A28A23B2</td>\n      <td>ocds-bxokds-Z1A28A23B2-2020-10-15T00:00:00Z</td>\n      <td>Z1A28A23B2</td>\n      <td>QUAGLIATA SRL</td>\n      <td>IT-CF-02751560836</td>\n    </tr>\n    <tr>\n      <th>1</th>\n      <td>ocds-bxokds-Z1A28A23B2</td>\n      <td>ocds-bxokds-Z1A28A23B2-2020-10-15T00:00:00Z</td>\n      <td>Z1A28A23B2</td>\n      <td>CARTOLERIA SAVASTA</td>\n      <td>IT-CF-000000</td>\n    </tr>\n    <tr>\n      <th>2</th>\n      <td>ocds-bxokds-Z1A28A23B2</td>\n      <td>ocds-bxokds-Z1A28A23B2-2020-10-15T00:00:00Z</td>\n      <td>Z1A28A23B2</td>\n      <td>CARTOLERIA CENTRO OFFICE</td>\n      <td>IT-CF-03259040834</td>\n    </tr>\n    <tr>\n      <th>3</th>\n      <td>ocds-bxokds-80473134C4</td>\n      <td>ocds-bxokds-80473134C4-2020-10-15T00:00:00Z</td>\n      <td>80473134C4</td>\n      <td>URANIA COSTRUZIONI SRL</td>\n      <td>IT-CF-02122600832</td>\n    </tr>\n    <tr>\n      <th>4</th>\n      <td>ocds-bxokds-80473134C4</td>\n      <td>ocds-bxokds-80473134C4-2020-10-15T00:00:00Z</td>\n      <td>80473134C4</td>\n      <td>MESSINA NOLEGGI SRL</td>\n      <td>IT-CF-03049590833</td>\n    </tr>\n  </tbody>\n</table>\n</div>"
     },
     "metadata": {},
     "execution_count": 39
    }
   ],
   "source": [
    "\n",
    "\n",
    "\n",
    "tende_tenderers = create_tende_tenderers(par_input, date)\n",
    "\n",
    "tende_tenderers.head()"
   ]
  },
  {
   "cell_type": "code",
   "execution_count": 40,
   "metadata": {
    "tags": []
   },
   "outputs": [
    {
     "output_type": "execute_result",
     "data": {
      "text/plain": [
       "                     ocid                                           id  \\\n",
       "0  ocds-bxokds-Z1A28A23B2  ocds-bxokds-Z1A28A23B2-2020-10-15T00:00:00Z   \n",
       "1  ocds-bxokds-80473134C4  ocds-bxokds-80473134C4-2020-10-15T00:00:00Z   \n",
       "2  ocds-bxokds-Z572422694  ocds-bxokds-Z572422694-2020-10-15T00:00:00Z   \n",
       "3  ocds-bxokds-7692761B31  ocds-bxokds-7692761B31-2020-10-15T00:00:00Z   \n",
       "4  ocds-bxokds-Z8B2A793A4  ocds-bxokds-Z8B2A793A4-2020-10-15T00:00:00Z   \n",
       "\n",
       "  awards/0/id  awards/0/value/amount  \n",
       "0  Z1A28A23B2                1955.22  \n",
       "1  80473134C4              415979.20  \n",
       "2  Z572422694               14819.40  \n",
       "3  7692761B31                1500.00  \n",
       "4  Z8B2A793A4                1200.00  "
      ],
      "text/html": "<div>\n<style scoped>\n    .dataframe tbody tr th:only-of-type {\n        vertical-align: middle;\n    }\n\n    .dataframe tbody tr th {\n        vertical-align: top;\n    }\n\n    .dataframe thead th {\n        text-align: right;\n    }\n</style>\n<table border=\"1\" class=\"dataframe\">\n  <thead>\n    <tr style=\"text-align: right;\">\n      <th></th>\n      <th>ocid</th>\n      <th>id</th>\n      <th>awards/0/id</th>\n      <th>awards/0/value/amount</th>\n    </tr>\n  </thead>\n  <tbody>\n    <tr>\n      <th>0</th>\n      <td>ocds-bxokds-Z1A28A23B2</td>\n      <td>ocds-bxokds-Z1A28A23B2-2020-10-15T00:00:00Z</td>\n      <td>Z1A28A23B2</td>\n      <td>1955.22</td>\n    </tr>\n    <tr>\n      <th>1</th>\n      <td>ocds-bxokds-80473134C4</td>\n      <td>ocds-bxokds-80473134C4-2020-10-15T00:00:00Z</td>\n      <td>80473134C4</td>\n      <td>415979.20</td>\n    </tr>\n    <tr>\n      <th>2</th>\n      <td>ocds-bxokds-Z572422694</td>\n      <td>ocds-bxokds-Z572422694-2020-10-15T00:00:00Z</td>\n      <td>Z572422694</td>\n      <td>14819.40</td>\n    </tr>\n    <tr>\n      <th>3</th>\n      <td>ocds-bxokds-7692761B31</td>\n      <td>ocds-bxokds-7692761B31-2020-10-15T00:00:00Z</td>\n      <td>7692761B31</td>\n      <td>1500.00</td>\n    </tr>\n    <tr>\n      <th>4</th>\n      <td>ocds-bxokds-Z8B2A793A4</td>\n      <td>ocds-bxokds-Z8B2A793A4-2020-10-15T00:00:00Z</td>\n      <td>Z8B2A793A4</td>\n      <td>1200.00</td>\n    </tr>\n  </tbody>\n</table>\n</div>"
     },
     "metadata": {},
     "execution_count": 40
    }
   ],
   "source": [
    "\n",
    "awards = create_awards(lot_input, date)\n",
    "\n",
    "\n",
    "awards.head()"
   ]
  },
  {
   "cell_type": "code",
   "execution_count": 41,
   "metadata": {
    "tags": []
   },
   "outputs": [],
   "source": [
    "\n",
    "awards_suppliers = create_awards_suppliers(agg_input, date)\n",
    "\n",
    "\n",
    "#awards_suppliers.info()"
   ]
  },
  {
   "cell_type": "code",
   "execution_count": 42,
   "metadata": {},
   "outputs": [
    {
     "output_type": "execute_result",
     "data": {
      "text/plain": [
       "                     ocid                                           id  \\\n",
       "0  ocds-bxokds-Z1A28A23B2  ocds-bxokds-Z1A28A23B2-2020-10-15T00:00:00Z   \n",
       "1  ocds-bxokds-80473134C4  ocds-bxokds-80473134C4-2020-10-15T00:00:00Z   \n",
       "2  ocds-bxokds-Z572422694  ocds-bxokds-Z572422694-2020-10-15T00:00:00Z   \n",
       "3  ocds-bxokds-7692761B31  ocds-bxokds-7692761B31-2020-10-15T00:00:00Z   \n",
       "4  ocds-bxokds-Z8B2A793A4  ocds-bxokds-Z8B2A793A4-2020-10-15T00:00:00Z   \n",
       "\n",
       "  contracts/0/id contracts/0/implementation/transactions/0/id  \\\n",
       "0     Z1A28A23B2                                   Z1A28A23B2   \n",
       "1     80473134C4                                   80473134C4   \n",
       "2     Z572422694                                   Z572422694   \n",
       "3     7692761B31                                   7692761B31   \n",
       "4     Z8B2A793A4                                   Z8B2A793A4   \n",
       "\n",
       "   contracts/0/implementation/transactions/0/value/amount  \n",
       "0                                            1955.22       \n",
       "1                                               0.00       \n",
       "2                                               0.00       \n",
       "3                                               0.00       \n",
       "4                                            1200.00       "
      ],
      "text/html": "<div>\n<style scoped>\n    .dataframe tbody tr th:only-of-type {\n        vertical-align: middle;\n    }\n\n    .dataframe tbody tr th {\n        vertical-align: top;\n    }\n\n    .dataframe thead th {\n        text-align: right;\n    }\n</style>\n<table border=\"1\" class=\"dataframe\">\n  <thead>\n    <tr style=\"text-align: right;\">\n      <th></th>\n      <th>ocid</th>\n      <th>id</th>\n      <th>contracts/0/id</th>\n      <th>contracts/0/implementation/transactions/0/id</th>\n      <th>contracts/0/implementation/transactions/0/value/amount</th>\n    </tr>\n  </thead>\n  <tbody>\n    <tr>\n      <th>0</th>\n      <td>ocds-bxokds-Z1A28A23B2</td>\n      <td>ocds-bxokds-Z1A28A23B2-2020-10-15T00:00:00Z</td>\n      <td>Z1A28A23B2</td>\n      <td>Z1A28A23B2</td>\n      <td>1955.22</td>\n    </tr>\n    <tr>\n      <th>1</th>\n      <td>ocds-bxokds-80473134C4</td>\n      <td>ocds-bxokds-80473134C4-2020-10-15T00:00:00Z</td>\n      <td>80473134C4</td>\n      <td>80473134C4</td>\n      <td>0.00</td>\n    </tr>\n    <tr>\n      <th>2</th>\n      <td>ocds-bxokds-Z572422694</td>\n      <td>ocds-bxokds-Z572422694-2020-10-15T00:00:00Z</td>\n      <td>Z572422694</td>\n      <td>Z572422694</td>\n      <td>0.00</td>\n    </tr>\n    <tr>\n      <th>3</th>\n      <td>ocds-bxokds-7692761B31</td>\n      <td>ocds-bxokds-7692761B31-2020-10-15T00:00:00Z</td>\n      <td>7692761B31</td>\n      <td>7692761B31</td>\n      <td>0.00</td>\n    </tr>\n    <tr>\n      <th>4</th>\n      <td>ocds-bxokds-Z8B2A793A4</td>\n      <td>ocds-bxokds-Z8B2A793A4-2020-10-15T00:00:00Z</td>\n      <td>Z8B2A793A4</td>\n      <td>Z8B2A793A4</td>\n      <td>1200.00</td>\n    </tr>\n  </tbody>\n</table>\n</div>"
     },
     "metadata": {},
     "execution_count": 42
    }
   ],
   "source": [
    "contr_imple_transactions = create_contr_imple_transactions(lot_input, date)\n",
    "\n",
    "\n",
    "contr_imple_transactions.head()"
   ]
  },
  {
   "cell_type": "code",
   "execution_count": 43,
   "metadata": {},
   "outputs": [
    {
     "output_type": "execute_result",
     "data": {
      "text/plain": [
       "                       ocid                                           id  \\\n",
       "0    ocds-bxokds-Z1A28A23B2  ocds-bxokds-Z1A28A23B2-2020-10-15T00:00:00Z   \n",
       "1    ocds-bxokds-80473134C4  ocds-bxokds-80473134C4-2020-10-15T00:00:00Z   \n",
       "2    ocds-bxokds-Z572422694  ocds-bxokds-Z572422694-2020-10-15T00:00:00Z   \n",
       "3    ocds-bxokds-7692761B31  ocds-bxokds-7692761B31-2020-10-15T00:00:00Z   \n",
       "4    ocds-bxokds-Z8B2A793A4  ocds-bxokds-Z8B2A793A4-2020-10-15T00:00:00Z   \n",
       "..                      ...                                          ...   \n",
       "674  ocds-bxokds-Z7225AEAB4  ocds-bxokds-Z7225AEAB4-2020-10-15T00:00:00Z   \n",
       "675  ocds-bxokds-ZB32558FE1  ocds-bxokds-ZB32558FE1-2020-10-15T00:00:00Z   \n",
       "676  ocds-bxokds-Z9C25AEA42  ocds-bxokds-Z9C25AEA42-2020-10-15T00:00:00Z   \n",
       "677  ocds-bxokds-Z2C2674D4D  ocds-bxokds-Z2C2674D4D-2020-10-15T00:00:00Z   \n",
       "678  ocds-bxokds-ZC1213E3A2  ocds-bxokds-ZC1213E3A2-2020-10-15T00:00:00Z   \n",
       "\n",
       "    contracts/0/awardID contracts/0/id  \n",
       "0            Z1A28A23B2     Z1A28A23B2  \n",
       "1            80473134C4     80473134C4  \n",
       "2            Z572422694     Z572422694  \n",
       "3            7692761B31     7692761B31  \n",
       "4            Z8B2A793A4     Z8B2A793A4  \n",
       "..                  ...            ...  \n",
       "674          Z7225AEAB4     Z7225AEAB4  \n",
       "675          ZB32558FE1     ZB32558FE1  \n",
       "676          Z9C25AEA42     Z9C25AEA42  \n",
       "677          Z2C2674D4D     Z2C2674D4D  \n",
       "678          ZC1213E3A2     ZC1213E3A2  \n",
       "\n",
       "[656 rows x 4 columns]"
      ],
      "text/html": "<div>\n<style scoped>\n    .dataframe tbody tr th:only-of-type {\n        vertical-align: middle;\n    }\n\n    .dataframe tbody tr th {\n        vertical-align: top;\n    }\n\n    .dataframe thead th {\n        text-align: right;\n    }\n</style>\n<table border=\"1\" class=\"dataframe\">\n  <thead>\n    <tr style=\"text-align: right;\">\n      <th></th>\n      <th>ocid</th>\n      <th>id</th>\n      <th>contracts/0/awardID</th>\n      <th>contracts/0/id</th>\n    </tr>\n  </thead>\n  <tbody>\n    <tr>\n      <th>0</th>\n      <td>ocds-bxokds-Z1A28A23B2</td>\n      <td>ocds-bxokds-Z1A28A23B2-2020-10-15T00:00:00Z</td>\n      <td>Z1A28A23B2</td>\n      <td>Z1A28A23B2</td>\n    </tr>\n    <tr>\n      <th>1</th>\n      <td>ocds-bxokds-80473134C4</td>\n      <td>ocds-bxokds-80473134C4-2020-10-15T00:00:00Z</td>\n      <td>80473134C4</td>\n      <td>80473134C4</td>\n    </tr>\n    <tr>\n      <th>2</th>\n      <td>ocds-bxokds-Z572422694</td>\n      <td>ocds-bxokds-Z572422694-2020-10-15T00:00:00Z</td>\n      <td>Z572422694</td>\n      <td>Z572422694</td>\n    </tr>\n    <tr>\n      <th>3</th>\n      <td>ocds-bxokds-7692761B31</td>\n      <td>ocds-bxokds-7692761B31-2020-10-15T00:00:00Z</td>\n      <td>7692761B31</td>\n      <td>7692761B31</td>\n    </tr>\n    <tr>\n      <th>4</th>\n      <td>ocds-bxokds-Z8B2A793A4</td>\n      <td>ocds-bxokds-Z8B2A793A4-2020-10-15T00:00:00Z</td>\n      <td>Z8B2A793A4</td>\n      <td>Z8B2A793A4</td>\n    </tr>\n    <tr>\n      <th>...</th>\n      <td>...</td>\n      <td>...</td>\n      <td>...</td>\n      <td>...</td>\n    </tr>\n    <tr>\n      <th>674</th>\n      <td>ocds-bxokds-Z7225AEAB4</td>\n      <td>ocds-bxokds-Z7225AEAB4-2020-10-15T00:00:00Z</td>\n      <td>Z7225AEAB4</td>\n      <td>Z7225AEAB4</td>\n    </tr>\n    <tr>\n      <th>675</th>\n      <td>ocds-bxokds-ZB32558FE1</td>\n      <td>ocds-bxokds-ZB32558FE1-2020-10-15T00:00:00Z</td>\n      <td>ZB32558FE1</td>\n      <td>ZB32558FE1</td>\n    </tr>\n    <tr>\n      <th>676</th>\n      <td>ocds-bxokds-Z9C25AEA42</td>\n      <td>ocds-bxokds-Z9C25AEA42-2020-10-15T00:00:00Z</td>\n      <td>Z9C25AEA42</td>\n      <td>Z9C25AEA42</td>\n    </tr>\n    <tr>\n      <th>677</th>\n      <td>ocds-bxokds-Z2C2674D4D</td>\n      <td>ocds-bxokds-Z2C2674D4D-2020-10-15T00:00:00Z</td>\n      <td>Z2C2674D4D</td>\n      <td>Z2C2674D4D</td>\n    </tr>\n    <tr>\n      <th>678</th>\n      <td>ocds-bxokds-ZC1213E3A2</td>\n      <td>ocds-bxokds-ZC1213E3A2-2020-10-15T00:00:00Z</td>\n      <td>ZC1213E3A2</td>\n      <td>ZC1213E3A2</td>\n    </tr>\n  </tbody>\n</table>\n<p>656 rows × 4 columns</p>\n</div>"
     },
     "metadata": {},
     "execution_count": 43
    }
   ],
   "source": [
    "\n",
    "\n",
    "contracts = create_contracts(agg_input, date)\n",
    "\n",
    "contracts"
   ]
  },
  {
   "cell_type": "code",
   "execution_count": 44,
   "metadata": {},
   "outputs": [],
   "source": [
    "write_out = os.path.join(tmp_dir, \"releases.csv\")\n",
    "releases.to_csv (write_out, index = None, header=True) \n",
    "\n",
    "\n",
    "write_out = os.path.join(tmp_dir, \"parties.csv\")\n",
    "parties.to_csv (write_out, index = None, header=True) \n",
    "\n",
    "\n",
    "write_out = os.path.join(tmp_dir, \"tende_tenderers.csv\")\n",
    "tende_tenderers.to_csv (write_out, index = None, header=True) \n",
    "\n",
    "\n",
    "write_out = os.path.join(tmp_dir, \"awards.csv\")\n",
    "awards.to_csv (write_out, index = None, header=True) \n",
    "\n",
    "\n",
    "write_out = os.path.join(tmp_dir, \"awards_suppliers.csv\")\n",
    "awards_suppliers.to_csv (write_out, index = None, header=True) \n",
    "\n",
    "\n",
    "write_out = os.path.join(tmp_dir, \"contr_imple_transactions.csv\")\n",
    "contr_imple_transactions.to_csv (write_out, index = None, header=True) \n",
    "\n",
    "write_out = os.path.join(tmp_dir, \"contracts.csv\")\n",
    "contracts.to_csv (write_out, index = None, header=True) "
   ]
  },
  {
   "cell_type": "code",
   "execution_count": 45,
   "metadata": {
    "tags": []
   },
   "outputs": [],
   "source": [
    "\n",
    "filename = 'ocds.json'\n",
    "filename_dir = out_dir + 'IT-CF-' + cod_pa + '/'\n",
    "out_path = os.path.join(filename_dir, filename)\n",
    "\n",
    "\n",
    "if not os.path.exists(filename_dir):\n",
    "    os.makedirs(filename_dir)\n",
    "\n",
    "\n",
    "schema_path = os.path.join(schema_dir, 'release-schema.json')\n",
    "base_path = os.path.join(work_dir, 'base.json')\n",
    "\n",
    "\n",
    "\n",
    "flattentool.unflatten(tmp_dir, \n",
    "                        output_name = out_path,\n",
    "                        input_format='csv',\n",
    "                        root_id='ocid',\n",
    "                        base_json = base_path, \n",
    "                        root_list_path='releases',\n",
    "                        schema = schema_path\n",
    "                        \n",
    "                      \n",
    "                        )"
   ]
  }
 ],
 "metadata": {
  "kernelspec": {
   "display_name": "Python 3",
   "language": "python",
   "name": "python3"
  },
  "language_info": {
   "codemirror_mode": {
    "name": "ipython",
    "version": 3
   },
   "file_extension": ".py",
   "mimetype": "text/x-python",
   "name": "python",
   "nbconvert_exporter": "python",
   "pygments_lexer": "ipython3",
   "version": "3.7.5-final"
  }
 },
 "nbformat": 4,
 "nbformat_minor": 2
}